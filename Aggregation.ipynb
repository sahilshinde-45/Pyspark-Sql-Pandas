{
 "cells": [
  {
   "cell_type": "markdown",
   "metadata": {
    "application/vnd.databricks.v1+cell": {
     "cellMetadata": {
      "byteLimit": 2048000,
      "rowLimit": 10000
     },
     "inputWidgets": {},
     "nuid": "e560eb04-2a75-4ee5-914b-cb5ffdb65b0a",
     "showTitle": false,
     "tableResultSettingsMap": {},
     "title": ""
    }
   },
   "source": [
    "[620.Not Boring Movies](https://leetcode.com/problems/not-boring-movies/description/?envType=study-plan-v2&envId=top-sql-50)"
   ]
  },
  {
   "cell_type": "code",
   "execution_count": 0,
   "metadata": {
    "application/vnd.databricks.v1+cell": {
     "cellMetadata": {
      "byteLimit": 2048000,
      "rowLimit": 10000
     },
     "inputWidgets": {},
     "nuid": "a4cd62ad-a9f5-498d-bda7-d29967f0583b",
     "showTitle": false,
     "tableResultSettingsMap": {},
     "title": ""
    }
   },
   "outputs": [
    {
     "output_type": "display_data",
     "data": {
      "application/vnd.databricks.v1+bamboolib_hint": "{\"pd.DataFrames\": [], \"version\": \"0.0.1\"}",
      "text/plain": []
     },
     "metadata": {},
     "output_type": "display_data"
    }
   ],
   "source": [
    "import pandas as pd\n",
    "\n",
    "data = [[1, 'War', 'great 3D', 8.9], [2, 'Science', 'fiction', 8.5], [3, 'irish', 'boring', 6.2],\n",
    "        [4, 'Ice song', 'Fantacy', 8.6], [5, 'House card', 'Interesting', 9.1]]\n",
    "cinema = pd.DataFrame(data, columns=['id', 'movie', 'description', 'rating']).astype(\n",
    "    {'id': 'Int64', 'movie': 'object', 'description': 'object', 'rating': 'Float64'})"
   ]
  },
  {
   "cell_type": "code",
   "execution_count": 0,
   "metadata": {
    "application/vnd.databricks.v1+cell": {
     "cellMetadata": {
      "byteLimit": 2048000,
      "rowLimit": 10000
     },
     "inputWidgets": {},
     "nuid": "e035ac4c-2413-4ecb-8840-18b4db9a2ab0",
     "showTitle": false,
     "tableResultSettingsMap": {},
     "title": ""
    }
   },
   "outputs": [
    {
     "output_type": "display_data",
     "data": {
      "text/html": [
       "<div>\n",
       "<style scoped>\n",
       "    .dataframe tbody tr th:only-of-type {\n",
       "        vertical-align: middle;\n",
       "    }\n",
       "\n",
       "    .dataframe tbody tr th {\n",
       "        vertical-align: top;\n",
       "    }\n",
       "\n",
       "    .dataframe thead th {\n",
       "        text-align: right;\n",
       "    }\n",
       "</style>\n",
       "<table border=\"1\" class=\"dataframe\">\n",
       "  <thead>\n",
       "    <tr style=\"text-align: right;\">\n",
       "      <th></th>\n",
       "      <th>id</th>\n",
       "      <th>movie</th>\n",
       "      <th>description</th>\n",
       "      <th>rating</th>\n",
       "    </tr>\n",
       "  </thead>\n",
       "  <tbody>\n",
       "    <tr>\n",
       "      <th>0</th>\n",
       "      <td>1</td>\n",
       "      <td>War</td>\n",
       "      <td>great 3D</td>\n",
       "      <td>8.9</td>\n",
       "    </tr>\n",
       "    <tr>\n",
       "      <th>1</th>\n",
       "      <td>2</td>\n",
       "      <td>Science</td>\n",
       "      <td>fiction</td>\n",
       "      <td>8.5</td>\n",
       "    </tr>\n",
       "    <tr>\n",
       "      <th>2</th>\n",
       "      <td>3</td>\n",
       "      <td>irish</td>\n",
       "      <td>boring</td>\n",
       "      <td>6.2</td>\n",
       "    </tr>\n",
       "    <tr>\n",
       "      <th>3</th>\n",
       "      <td>4</td>\n",
       "      <td>Ice song</td>\n",
       "      <td>Fantacy</td>\n",
       "      <td>8.6</td>\n",
       "    </tr>\n",
       "    <tr>\n",
       "      <th>4</th>\n",
       "      <td>5</td>\n",
       "      <td>House card</td>\n",
       "      <td>Interesting</td>\n",
       "      <td>9.1</td>\n",
       "    </tr>\n",
       "  </tbody>\n",
       "</table>\n",
       "</div>"
      ]
     },
     "metadata": {
      "application/vnd.databricks.v1+output": {
       "addedWidgets": {},
       "arguments": {},
       "data": "<div>\n<style scoped>\n    .dataframe tbody tr th:only-of-type {\n        vertical-align: middle;\n    }\n\n    .dataframe tbody tr th {\n        vertical-align: top;\n    }\n\n    .dataframe thead th {\n        text-align: right;\n    }\n</style>\n<table border=\"1\" class=\"dataframe\">\n  <thead>\n    <tr style=\"text-align: right;\">\n      <th></th>\n      <th>id</th>\n      <th>movie</th>\n      <th>description</th>\n      <th>rating</th>\n    </tr>\n  </thead>\n  <tbody>\n    <tr>\n      <th>0</th>\n      <td>1</td>\n      <td>War</td>\n      <td>great 3D</td>\n      <td>8.9</td>\n    </tr>\n    <tr>\n      <th>1</th>\n      <td>2</td>\n      <td>Science</td>\n      <td>fiction</td>\n      <td>8.5</td>\n    </tr>\n    <tr>\n      <th>2</th>\n      <td>3</td>\n      <td>irish</td>\n      <td>boring</td>\n      <td>6.2</td>\n    </tr>\n    <tr>\n      <th>3</th>\n      <td>4</td>\n      <td>Ice song</td>\n      <td>Fantacy</td>\n      <td>8.6</td>\n    </tr>\n    <tr>\n      <th>4</th>\n      <td>5</td>\n      <td>House card</td>\n      <td>Interesting</td>\n      <td>9.1</td>\n    </tr>\n  </tbody>\n</table>\n</div>",
       "datasetInfos": [],
       "metadata": {},
       "removedWidgets": [],
       "textData": null,
       "type": "htmlSandbox"
      }
     },
     "output_type": "display_data"
    }
   ],
   "source": [
    "cinema"
   ]
  },
  {
   "cell_type": "code",
   "execution_count": 0,
   "metadata": {
    "application/vnd.databricks.v1+cell": {
     "cellMetadata": {
      "byteLimit": 2048000,
      "rowLimit": 10000
     },
     "inputWidgets": {},
     "nuid": "7dca636d-bb96-4cac-92dc-3bb3fcdef03c",
     "showTitle": false,
     "tableResultSettingsMap": {},
     "title": ""
    }
   },
   "outputs": [
    {
     "output_type": "display_data",
     "data": {
      "text/html": [
       "<style scoped>\n",
       "  .table-result-container {\n",
       "    max-height: 300px;\n",
       "    overflow: auto;\n",
       "  }\n",
       "  table, th, td {\n",
       "    border: 1px solid black;\n",
       "    border-collapse: collapse;\n",
       "  }\n",
       "  th, td {\n",
       "    padding: 5px;\n",
       "  }\n",
       "  th {\n",
       "    text-align: left;\n",
       "  }\n",
       "</style><div class='table-result-container'><table class='table-result'><thead style='background-color: white'><tr><th>id</th><th>movie</th><th>description</th><th>rating</th></tr></thead><tbody><tr><td>5</td><td>House card</td><td>Interesting</td><td>9.1</td></tr><tr><td>1</td><td>War</td><td>great 3D</td><td>8.9</td></tr></tbody></table></div>"
      ]
     },
     "metadata": {
      "application/vnd.databricks.v1+output": {
       "addedWidgets": {},
       "aggData": [],
       "aggError": "",
       "aggOverflow": false,
       "aggSchema": [],
       "aggSeriesLimitReached": false,
       "aggType": "",
       "arguments": {},
       "columnCustomDisplayInfos": {},
       "data": [
        [
         5,
         "House card",
         "Interesting",
         9.1
        ],
        [
         1,
         "War",
         "great 3D",
         8.9
        ]
       ],
       "datasetInfos": [],
       "dbfsResultPath": null,
       "isJsonSchema": true,
       "metadata": {},
       "overflow": false,
       "plotOptions": {
        "customPlotOptions": {},
        "displayType": "table",
        "pivotAggregation": null,
        "pivotColumns": null,
        "xColumns": null,
        "yColumns": null
       },
       "removedWidgets": [],
       "schema": [
        {
         "metadata": "{}",
         "name": "id",
         "type": "\"long\""
        },
        {
         "metadata": "{}",
         "name": "movie",
         "type": "\"string\""
        },
        {
         "metadata": "{}",
         "name": "description",
         "type": "\"string\""
        },
        {
         "metadata": "{}",
         "name": "rating",
         "type": "\"double\""
        }
       ],
       "type": "table"
      }
     },
     "output_type": "display_data"
    }
   ],
   "source": [
    "# STEP 1\n",
    "filter_cinema = cinema[(cinema['id'] % 2 !=0 ) & (cinema['description']!= 'boring')]\n",
    "\n",
    "result = filter_cinema.sort_values(by='rating',ascending=False)\n",
    "display(result)"
   ]
  },
  {
   "cell_type": "code",
   "execution_count": 0,
   "metadata": {
    "application/vnd.databricks.v1+cell": {
     "cellMetadata": {
      "byteLimit": 2048000,
      "rowLimit": 10000
     },
     "inputWidgets": {},
     "nuid": "7c7850c5-6107-43d0-b779-25746965082e",
     "showTitle": false,
     "tableResultSettingsMap": {},
     "title": ""
    }
   },
   "outputs": [],
   "source": [
    "from pyspark.sql import SparkSession\n",
    "import pyspark.sql.functions as F\n",
    "\n",
    "spark = SparkSession.builder.getOrCreate()"
   ]
  },
  {
   "cell_type": "code",
   "execution_count": 0,
   "metadata": {
    "application/vnd.databricks.v1+cell": {
     "cellMetadata": {
      "byteLimit": 2048000,
      "rowLimit": 10000
     },
     "inputWidgets": {},
     "nuid": "33e29c90-18c0-43c4-ae7d-51d919b9d636",
     "showTitle": false,
     "tableResultSettingsMap": {},
     "title": ""
    }
   },
   "outputs": [
    {
     "output_type": "stream",
     "name": "stdout",
     "output_type": "stream",
     "text": [
      "+---+----------+-----------+------+\n| id|     movie|description|rating|\n+---+----------+-----------+------+\n|  1|       War|   great 3D|   8.9|\n|  2|   Science|    fiction|   8.5|\n|  3|     irish|     boring|   6.2|\n|  4|  Ice song|    Fantacy|   8.6|\n|  5|House card|Interesting|   9.1|\n+---+----------+-----------+------+\n\n"
     ]
    }
   ],
   "source": [
    "spark_cinema_df = spark.createDataFrame(cinema)\n",
    "spark_cinema_df.show()"
   ]
  },
  {
   "cell_type": "code",
   "execution_count": 0,
   "metadata": {
    "application/vnd.databricks.v1+cell": {
     "cellMetadata": {
      "byteLimit": 2048000,
      "rowLimit": 10000
     },
     "inputWidgets": {},
     "nuid": "c99e0b27-33d9-4c0b-8d84-12f9c66f7c46",
     "showTitle": false,
     "tableResultSettingsMap": {},
     "title": ""
    }
   },
   "outputs": [
    {
     "output_type": "stream",
     "name": "stdout",
     "output_type": "stream",
     "text": [
      "+---+----------+-----------+------+\n| id|     movie|description|rating|\n+---+----------+-----------+------+\n|  5|House card|Interesting|   9.1|\n|  1|       War|   great 3D|   8.9|\n+---+----------+-----------+------+\n\n"
     ]
    }
   ],
   "source": [
    "spark_cinema_df\\\n",
    "            .filter((F.col('description')!='boring') & (F.col('id')%2!=0))\\\n",
    "            .orderBy(F.col('rating').desc())\\\n",
    "            .show()"
   ]
  },
  {
   "cell_type": "code",
   "execution_count": 0,
   "metadata": {
    "application/vnd.databricks.v1+cell": {
     "cellMetadata": {
      "byteLimit": 2048000,
      "rowLimit": 10000
     },
     "inputWidgets": {},
     "nuid": "5b3b1465-7b13-4d69-8544-37532fd7a834",
     "showTitle": false,
     "tableResultSettingsMap": {},
     "title": ""
    }
   },
   "outputs": [
    {
     "output_type": "stream",
     "name": "stdout",
     "output_type": "stream",
     "text": [
      "+---+----------+-----------+------+\n| id|     movie|description|rating|\n+---+----------+-----------+------+\n|  5|House card|Interesting|   9.1|\n|  1|       War|   great 3D|   8.9|\n+---+----------+-----------+------+\n\n"
     ]
    }
   ],
   "source": [
    "spark_cinema_df.createTempView('cinemass')\n",
    "\n",
    "spark.sql(\n",
    "    '''\n",
    "    SELECT *\n",
    "    FROM cinemass\n",
    "    WHERE description!='boring' and id%2!= 0\n",
    "    ORDER BY rating desc;\n",
    "    '''\n",
    ").show()"
   ]
  },
  {
   "cell_type": "markdown",
   "metadata": {
    "application/vnd.databricks.v1+cell": {
     "cellMetadata": {
      "byteLimit": 2048000,
      "rowLimit": 10000
     },
     "inputWidgets": {},
     "nuid": "516bc54b-bbe9-4ecc-8275-f3e10e3fc568",
     "showTitle": false,
     "tableResultSettingsMap": {},
     "title": ""
    }
   },
   "source": [
    "[1251. Average Selling Price](https://leetcode.com/problems/average-selling-price/description/?envType=study-plan-v2&envId=top-sql-50)"
   ]
  },
  {
   "cell_type": "code",
   "execution_count": 0,
   "metadata": {
    "application/vnd.databricks.v1+cell": {
     "cellMetadata": {
      "byteLimit": 2048000,
      "rowLimit": 10000
     },
     "inputWidgets": {},
     "nuid": "e2ecd812-1c1d-4120-83ec-a8cca137b6f1",
     "showTitle": false,
     "tableResultSettingsMap": {},
     "title": ""
    }
   },
   "outputs": [],
   "source": [
    "\n",
    "data = [[1, '2019-02-17', '2019-02-28', 5], [1, '2019-03-01', '2019-03-22', 20], [2, '2019-02-01', '2019-02-20', 15],\n",
    "        [2, '2019-02-21', '2019-03-31', 30]]\n",
    "prices = pd.DataFrame(data, columns=['product_id', 'start_date', 'end_date', 'price']).astype(\n",
    "    {'product_id': 'Int64', 'start_date': 'datetime64[ns]', 'end_date': 'datetime64[ns]', 'price': 'Int64'})\n",
    "data = [[1, '2019-02-25', 100], [1, '2019-03-01', 15], [2, '2019-02-10', 200], [2, '2019-03-22', 30]]\n",
    "units_sold = pd.DataFrame(data, columns=['product_id', 'purchase_date', 'units']).astype(\n",
    "    {'product_id': 'Int64', 'purchase_date': 'datetime64[ns]', 'units': 'Int64'})"
   ]
  },
  {
   "cell_type": "code",
   "execution_count": 0,
   "metadata": {
    "application/vnd.databricks.v1+cell": {
     "cellMetadata": {
      "byteLimit": 2048000,
      "rowLimit": 10000
     },
     "inputWidgets": {},
     "nuid": "a6f558c1-3cec-42be-aae9-781dffedbecb",
     "showTitle": false,
     "tableResultSettingsMap": {},
     "title": ""
    }
   },
   "outputs": [
    {
     "output_type": "display_data",
     "data": {
      "text/html": [
       "<div>\n",
       "<style scoped>\n",
       "    .dataframe tbody tr th:only-of-type {\n",
       "        vertical-align: middle;\n",
       "    }\n",
       "\n",
       "    .dataframe tbody tr th {\n",
       "        vertical-align: top;\n",
       "    }\n",
       "\n",
       "    .dataframe thead th {\n",
       "        text-align: right;\n",
       "    }\n",
       "</style>\n",
       "<table border=\"1\" class=\"dataframe\">\n",
       "  <thead>\n",
       "    <tr style=\"text-align: right;\">\n",
       "      <th></th>\n",
       "      <th>product_id</th>\n",
       "      <th>start_date</th>\n",
       "      <th>end_date</th>\n",
       "      <th>price</th>\n",
       "    </tr>\n",
       "  </thead>\n",
       "  <tbody>\n",
       "    <tr>\n",
       "      <th>0</th>\n",
       "      <td>1</td>\n",
       "      <td>2019-02-17</td>\n",
       "      <td>2019-02-28</td>\n",
       "      <td>5</td>\n",
       "    </tr>\n",
       "    <tr>\n",
       "      <th>1</th>\n",
       "      <td>1</td>\n",
       "      <td>2019-03-01</td>\n",
       "      <td>2019-03-22</td>\n",
       "      <td>20</td>\n",
       "    </tr>\n",
       "    <tr>\n",
       "      <th>2</th>\n",
       "      <td>2</td>\n",
       "      <td>2019-02-01</td>\n",
       "      <td>2019-02-20</td>\n",
       "      <td>15</td>\n",
       "    </tr>\n",
       "    <tr>\n",
       "      <th>3</th>\n",
       "      <td>2</td>\n",
       "      <td>2019-02-21</td>\n",
       "      <td>2019-03-31</td>\n",
       "      <td>30</td>\n",
       "    </tr>\n",
       "  </tbody>\n",
       "</table>\n",
       "</div>"
      ]
     },
     "metadata": {
      "application/vnd.databricks.v1+output": {
       "addedWidgets": {},
       "arguments": {},
       "data": "<div>\n<style scoped>\n    .dataframe tbody tr th:only-of-type {\n        vertical-align: middle;\n    }\n\n    .dataframe tbody tr th {\n        vertical-align: top;\n    }\n\n    .dataframe thead th {\n        text-align: right;\n    }\n</style>\n<table border=\"1\" class=\"dataframe\">\n  <thead>\n    <tr style=\"text-align: right;\">\n      <th></th>\n      <th>product_id</th>\n      <th>start_date</th>\n      <th>end_date</th>\n      <th>price</th>\n    </tr>\n  </thead>\n  <tbody>\n    <tr>\n      <th>0</th>\n      <td>1</td>\n      <td>2019-02-17</td>\n      <td>2019-02-28</td>\n      <td>5</td>\n    </tr>\n    <tr>\n      <th>1</th>\n      <td>1</td>\n      <td>2019-03-01</td>\n      <td>2019-03-22</td>\n      <td>20</td>\n    </tr>\n    <tr>\n      <th>2</th>\n      <td>2</td>\n      <td>2019-02-01</td>\n      <td>2019-02-20</td>\n      <td>15</td>\n    </tr>\n    <tr>\n      <th>3</th>\n      <td>2</td>\n      <td>2019-02-21</td>\n      <td>2019-03-31</td>\n      <td>30</td>\n    </tr>\n  </tbody>\n</table>\n</div>",
       "datasetInfos": [],
       "metadata": {},
       "removedWidgets": [],
       "textData": null,
       "type": "htmlSandbox"
      }
     },
     "output_type": "display_data"
    }
   ],
   "source": [
    "prices"
   ]
  },
  {
   "cell_type": "code",
   "execution_count": 0,
   "metadata": {
    "application/vnd.databricks.v1+cell": {
     "cellMetadata": {
      "byteLimit": 2048000,
      "rowLimit": 10000
     },
     "inputWidgets": {},
     "nuid": "04a1d3e3-4fb6-4535-84d6-c36b14035a1c",
     "showTitle": false,
     "tableResultSettingsMap": {},
     "title": ""
    }
   },
   "outputs": [
    {
     "output_type": "display_data",
     "data": {
      "text/html": [
       "<div>\n",
       "<style scoped>\n",
       "    .dataframe tbody tr th:only-of-type {\n",
       "        vertical-align: middle;\n",
       "    }\n",
       "\n",
       "    .dataframe tbody tr th {\n",
       "        vertical-align: top;\n",
       "    }\n",
       "\n",
       "    .dataframe thead th {\n",
       "        text-align: right;\n",
       "    }\n",
       "</style>\n",
       "<table border=\"1\" class=\"dataframe\">\n",
       "  <thead>\n",
       "    <tr style=\"text-align: right;\">\n",
       "      <th></th>\n",
       "      <th>product_id</th>\n",
       "      <th>purchase_date</th>\n",
       "      <th>units</th>\n",
       "    </tr>\n",
       "  </thead>\n",
       "  <tbody>\n",
       "    <tr>\n",
       "      <th>0</th>\n",
       "      <td>1</td>\n",
       "      <td>2019-02-25</td>\n",
       "      <td>100</td>\n",
       "    </tr>\n",
       "    <tr>\n",
       "      <th>1</th>\n",
       "      <td>1</td>\n",
       "      <td>2019-03-01</td>\n",
       "      <td>15</td>\n",
       "    </tr>\n",
       "    <tr>\n",
       "      <th>2</th>\n",
       "      <td>2</td>\n",
       "      <td>2019-02-10</td>\n",
       "      <td>200</td>\n",
       "    </tr>\n",
       "    <tr>\n",
       "      <th>3</th>\n",
       "      <td>2</td>\n",
       "      <td>2019-03-22</td>\n",
       "      <td>30</td>\n",
       "    </tr>\n",
       "  </tbody>\n",
       "</table>\n",
       "</div>"
      ]
     },
     "metadata": {
      "application/vnd.databricks.v1+output": {
       "addedWidgets": {},
       "arguments": {},
       "data": "<div>\n<style scoped>\n    .dataframe tbody tr th:only-of-type {\n        vertical-align: middle;\n    }\n\n    .dataframe tbody tr th {\n        vertical-align: top;\n    }\n\n    .dataframe thead th {\n        text-align: right;\n    }\n</style>\n<table border=\"1\" class=\"dataframe\">\n  <thead>\n    <tr style=\"text-align: right;\">\n      <th></th>\n      <th>product_id</th>\n      <th>purchase_date</th>\n      <th>units</th>\n    </tr>\n  </thead>\n  <tbody>\n    <tr>\n      <th>0</th>\n      <td>1</td>\n      <td>2019-02-25</td>\n      <td>100</td>\n    </tr>\n    <tr>\n      <th>1</th>\n      <td>1</td>\n      <td>2019-03-01</td>\n      <td>15</td>\n    </tr>\n    <tr>\n      <th>2</th>\n      <td>2</td>\n      <td>2019-02-10</td>\n      <td>200</td>\n    </tr>\n    <tr>\n      <th>3</th>\n      <td>2</td>\n      <td>2019-03-22</td>\n      <td>30</td>\n    </tr>\n  </tbody>\n</table>\n</div>",
       "datasetInfos": [],
       "metadata": {},
       "removedWidgets": [],
       "textData": null,
       "type": "htmlSandbox"
      }
     },
     "output_type": "display_data"
    }
   ],
   "source": [
    "units_sold"
   ]
  },
  {
   "cell_type": "code",
   "execution_count": 0,
   "metadata": {
    "application/vnd.databricks.v1+cell": {
     "cellMetadata": {
      "byteLimit": 2048000,
      "rowLimit": 10000
     },
     "inputWidgets": {},
     "nuid": "101e2130-8575-41ce-ac14-80cd36a9b134",
     "showTitle": false,
     "tableResultSettingsMap": {},
     "title": ""
    }
   },
   "outputs": [
    {
     "output_type": "stream",
     "name": "stdout",
     "output_type": "stream",
     "text": [
      "   product_id  average_price\n0           1           6.96\n1           2          16.96\n"
     ]
    }
   ],
   "source": [
    "merged = pd.merge_asof(\n",
    "    units_sold.sort_values('purchase_date'),\n",
    "    prices.sort_values('start_date'),\n",
    "    by='product_id',\n",
    "    left_on='purchase_date',\n",
    "    right_on='start_date',\n",
    "    direction='backward'\n",
    ")\n",
    "\n",
    "# Filter only rows where purchase_date is within the price interval\n",
    "merged = merged[merged['purchase_date'] <= merged['end_date']]\n",
    "\n",
    "# Calculate revenue per row\n",
    "merged['revenue'] = merged['units'] * merged['price']\n",
    "\n",
    "# Group by product_id and compute average selling price\n",
    "result = merged.groupby('product_id').agg(\n",
    "    total_revenue=('revenue', 'sum'),\n",
    "    total_units=('units', 'sum')\n",
    ").reset_index()\n",
    "\n",
    "result['average_price'] = result['total_revenue'] / result['total_units']\n",
    "result = result[['product_id', 'average_price']]\n",
    "result['average_price'] = result['average_price'].round(2)\n",
    "\n",
    "print(result)\n"
   ]
  },
  {
   "cell_type": "code",
   "execution_count": 0,
   "metadata": {
    "application/vnd.databricks.v1+cell": {
     "cellMetadata": {
      "byteLimit": 2048000,
      "rowLimit": 10000
     },
     "inputWidgets": {},
     "nuid": "898f8755-a5dc-48dc-8b9f-0dc45660aa19",
     "showTitle": false,
     "tableResultSettingsMap": {},
     "title": ""
    }
   },
   "outputs": [
    {
     "output_type": "stream",
     "name": "stdout",
     "output_type": "stream",
     "text": [
      "+----------+-------------------+-------------------+-----+\n|product_id|start_date         |end_date           |price|\n+----------+-------------------+-------------------+-----+\n|1         |2019-02-17 00:00:00|2019-02-28 00:00:00|5    |\n|1         |2019-03-01 00:00:00|2019-03-22 00:00:00|20   |\n|2         |2019-02-01 00:00:00|2019-02-20 00:00:00|15   |\n|2         |2019-02-21 00:00:00|2019-03-31 00:00:00|30   |\n+----------+-------------------+-------------------+-----+\n\n"
     ]
    }
   ],
   "source": [
    "prices_df = spark.createDataFrame(prices)\n",
    "prices_df.show(truncate=False)"
   ]
  },
  {
   "cell_type": "code",
   "execution_count": 0,
   "metadata": {
    "application/vnd.databricks.v1+cell": {
     "cellMetadata": {
      "byteLimit": 2048000,
      "rowLimit": 10000
     },
     "inputWidgets": {},
     "nuid": "148ae09e-dad6-4379-ab0e-64c5fae76761",
     "showTitle": false,
     "tableResultSettingsMap": {},
     "title": ""
    }
   },
   "outputs": [
    {
     "output_type": "stream",
     "name": "stdout",
     "output_type": "stream",
     "text": [
      "+----------+-------------------+-----+\n|product_id|purchase_date      |units|\n+----------+-------------------+-----+\n|1         |2019-02-25 00:00:00|100  |\n|1         |2019-03-01 00:00:00|15   |\n|2         |2019-02-10 00:00:00|200  |\n|2         |2019-03-22 00:00:00|30   |\n+----------+-------------------+-----+\n\n"
     ]
    }
   ],
   "source": [
    "units_sold_df = spark.createDataFrame(units_sold)\n",
    "units_sold_df.show(truncate=False)"
   ]
  },
  {
   "cell_type": "code",
   "execution_count": 0,
   "metadata": {
    "application/vnd.databricks.v1+cell": {
     "cellMetadata": {
      "byteLimit": 2048000,
      "rowLimit": 10000
     },
     "inputWidgets": {},
     "nuid": "0846b6e1-bfcd-4bba-a7cb-7c596d093062",
     "showTitle": false,
     "tableResultSettingsMap": {},
     "title": ""
    }
   },
   "outputs": [
    {
     "output_type": "stream",
     "name": "stdout",
     "output_type": "stream",
     "text": [
      "+----------+-------------+\n|product_id|average_price|\n+----------+-------------+\n|         1|         6.96|\n|         2|        16.96|\n+----------+-------------+\n\n"
     ]
    }
   ],
   "source": [
    "joined_df = prices_df.alias(\"p\").join(\n",
    "    units_sold_df.alias(\"u\"),\n",
    "    (F.col(\"p.product_id\") == F.col(\"u.product_id\")) &\n",
    "    (F.col(\"u.purchase_date\") >= F.col(\"p.start_date\")) &\n",
    "    (F.col(\"u.purchase_date\") <= F.col(\"p.end_date\")),\n",
    "    how=\"inner\"\n",
    ")\n",
    "\n",
    "# Calculate weighted average price\n",
    "result_df = joined_df.groupBy(\"p.product_id\") \\\n",
    "    .agg(F.round(F.sum(F.col(\"p.price\") * F.col(\"u.units\")) / F.sum(\"u.units\"), 2).alias(\"average_price\"))\n",
    "\n",
    "result_df.show()"
   ]
  },
  {
   "cell_type": "code",
   "execution_count": 0,
   "metadata": {
    "application/vnd.databricks.v1+cell": {
     "cellMetadata": {
      "byteLimit": 2048000,
      "rowLimit": 10000
     },
     "inputWidgets": {},
     "nuid": "9e35885b-2c4d-4fd2-8809-177ad34c77ec",
     "showTitle": false,
     "tableResultSettingsMap": {},
     "title": ""
    }
   },
   "outputs": [
    {
     "output_type": "stream",
     "name": "stdout",
     "output_type": "stream",
     "text": [
      "+----------+-------------+\n|product_id|average_price|\n+----------+-------------+\n|         1|         6.96|\n|         2|        16.96|\n+----------+-------------+\n\n"
     ]
    }
   ],
   "source": [
    "prices_df.createOrReplaceTempView('prices')\n",
    "units_sold_df.createOrReplaceTempView('unitsSold')\n",
    "\n",
    "spark.sql('''\n",
    "select prices.product_id, round(sum(price*units)/sum(units),2) as average_price \n",
    "from prices\n",
    "inner join unitssold\n",
    "on prices.product_id = unitssold.product_id\n",
    "and (prices.start_date<=unitssold.purchase_date and prices.end_date>=unitssold.purchase_date)\n",
    "group by prices.product_id;\n",
    "''').show()"
   ]
  },
  {
   "cell_type": "markdown",
   "metadata": {
    "application/vnd.databricks.v1+cell": {
     "cellMetadata": {
      "byteLimit": 2048000,
      "rowLimit": 10000
     },
     "inputWidgets": {},
     "nuid": "9197499a-1d95-47cf-94d9-0f7dc1ec015f",
     "showTitle": false,
     "tableResultSettingsMap": {},
     "title": ""
    }
   },
   "source": [
    "[1075. Project Employees I](https://leetcode.com/problems/project-employees-i/description/?envType=study-plan-v2&envId=top-sql-50)"
   ]
  },
  {
   "cell_type": "code",
   "execution_count": 0,
   "metadata": {
    "application/vnd.databricks.v1+cell": {
     "cellMetadata": {
      "byteLimit": 2048000,
      "rowLimit": 10000
     },
     "inputWidgets": {},
     "nuid": "9f19d426-12a4-49bd-8b81-766f1679c75b",
     "showTitle": false,
     "tableResultSettingsMap": {},
     "title": ""
    }
   },
   "outputs": [],
   "source": [
    "data = [[1, 1], [1, 2], [1, 3], [2, 1], [2, 4]]\n",
    "project = pd.DataFrame(data, columns=['project_id', 'employee_id']).astype(\n",
    "    {'project_id': 'Int64', 'employee_id': 'Int64'})\n",
    "data = [[1, 'Khaled', 3], [2, 'Ali', 2], [3, 'John', 1], [4, 'Doe', 2]]\n",
    "employee = pd.DataFrame(data, columns=['employee_id', 'name', 'experience_years']).astype(\n",
    "    {'employee_id': 'Int64', 'name': 'object', 'experience_years': 'Int64'})"
   ]
  },
  {
   "cell_type": "code",
   "execution_count": 0,
   "metadata": {
    "application/vnd.databricks.v1+cell": {
     "cellMetadata": {
      "byteLimit": 2048000,
      "rowLimit": 10000
     },
     "inputWidgets": {},
     "nuid": "ce889a71-08e1-413c-806f-6904b6902d0d",
     "showTitle": false,
     "tableResultSettingsMap": {},
     "title": ""
    }
   },
   "outputs": [
    {
     "output_type": "stream",
     "name": "stdout",
     "output_type": "stream",
     "text": [
      "   project_id  average_years\n0           1            2.0\n1           2            2.5\n"
     ]
    }
   ],
   "source": [
    "merged_df = pd.merge(project, employee, on='employee_id', how='inner')\n",
    "result = merged_df.groupby('project_id')['experience_years'].mean().reset_index()\n",
    "result.rename(columns={'experience_years':'average_years'}, inplace=True)\n",
    "print(result)"
   ]
  },
  {
   "cell_type": "code",
   "execution_count": 0,
   "metadata": {
    "application/vnd.databricks.v1+cell": {
     "cellMetadata": {
      "byteLimit": 2048000,
      "rowLimit": 10000
     },
     "inputWidgets": {},
     "nuid": "6634bea1-cb67-4e8e-a244-d6551d1fa7ad",
     "showTitle": false,
     "tableResultSettingsMap": {},
     "title": ""
    }
   },
   "outputs": [
    {
     "output_type": "stream",
     "name": "stdout",
     "output_type": "stream",
     "text": [
      "+----------+-----------+\n|project_id|employee_id|\n+----------+-----------+\n|         1|          1|\n|         1|          2|\n|         1|          3|\n|         2|          1|\n|         2|          4|\n+----------+-----------+\n\n"
     ]
    }
   ],
   "source": [
    "project_df = spark.createDataFrame(project)\n",
    "project_df.show()"
   ]
  },
  {
   "cell_type": "code",
   "execution_count": 0,
   "metadata": {
    "application/vnd.databricks.v1+cell": {
     "cellMetadata": {
      "byteLimit": 2048000,
      "rowLimit": 10000
     },
     "inputWidgets": {},
     "nuid": "f33e4f7a-4140-431e-82d1-0c257ec314e5",
     "showTitle": false,
     "tableResultSettingsMap": {},
     "title": ""
    }
   },
   "outputs": [
    {
     "output_type": "stream",
     "name": "stdout",
     "output_type": "stream",
     "text": [
      "+-----------+------+----------------+\n|employee_id|name  |experience_years|\n+-----------+------+----------------+\n|1          |Khaled|3               |\n|2          |Ali   |2               |\n|3          |John  |1               |\n|4          |Doe   |2               |\n+-----------+------+----------------+\n\n"
     ]
    }
   ],
   "source": [
    "employee_df = spark.createDataFrame(employee)\n",
    "employee_df.show(truncate=False)"
   ]
  },
  {
   "cell_type": "code",
   "execution_count": 0,
   "metadata": {
    "application/vnd.databricks.v1+cell": {
     "cellMetadata": {
      "byteLimit": 2048000,
      "rowLimit": 10000
     },
     "inputWidgets": {},
     "nuid": "9275c677-01d4-4fae-bc12-0f1379f525c4",
     "showTitle": false,
     "tableResultSettingsMap": {},
     "title": ""
    }
   },
   "outputs": [
    {
     "output_type": "stream",
     "name": "stdout",
     "output_type": "stream",
     "text": [
      "+----------+-------------+\n|project_id|average_years|\n+----------+-------------+\n|         1|          2.0|\n|         2|          2.5|\n+----------+-------------+\n\n"
     ]
    }
   ],
   "source": [
    "project_df.join(employee_df, on=['employee_id'], how='inner').groupBy('project_id').agg(F.avg('experience_years').alias('average_years')).show()"
   ]
  },
  {
   "cell_type": "code",
   "execution_count": 0,
   "metadata": {
    "application/vnd.databricks.v1+cell": {
     "cellMetadata": {
      "byteLimit": 2048000,
      "rowLimit": 10000
     },
     "inputWidgets": {},
     "nuid": "9f941a47-9176-418d-8837-fa405192f41a",
     "showTitle": false,
     "tableResultSettingsMap": {},
     "title": ""
    }
   },
   "outputs": [
    {
     "output_type": "stream",
     "name": "stdout",
     "output_type": "stream",
     "text": [
      "+----------+-------------+\n|project_id|average_years|\n+----------+-------------+\n|         1|          2.0|\n|         2|          2.5|\n+----------+-------------+\n\n"
     ]
    }
   ],
   "source": [
    "project_df.createOrReplaceTempView('project')\n",
    "employee_df.createOrReplaceTempView('employee')\n",
    "\n",
    "spark.sql('''\n",
    "          SELECT project_id, round(avg(experience_years),2) AS average_years\n",
    "          FROM project\n",
    "          INNER JOIN employee on project.employee_id = employee.employee_id\n",
    "          GROUP BY project.project_id;\n",
    "          ''').show()"
   ]
  },
  {
   "cell_type": "markdown",
   "metadata": {
    "application/vnd.databricks.v1+cell": {
     "cellMetadata": {
      "byteLimit": 2048000,
      "rowLimit": 10000
     },
     "inputWidgets": {},
     "nuid": "99b808f2-2f14-4bb7-9f8d-d1acfc3a7e0b",
     "showTitle": false,
     "tableResultSettingsMap": {},
     "title": ""
    }
   },
   "source": [
    "[1633. Percentage of Users Attended a Contest](https://leetcode.com/problems/percentage-of-users-attended-a-contest/description/?envType=study-plan-v2&envId=top-sql-50)"
   ]
  },
  {
   "cell_type": "code",
   "execution_count": 0,
   "metadata": {
    "application/vnd.databricks.v1+cell": {
     "cellMetadata": {
      "byteLimit": 2048000,
      "rowLimit": 10000
     },
     "inputWidgets": {},
     "nuid": "21d71731-2935-4d28-a3fc-5157ffc54619",
     "showTitle": false,
     "tableResultSettingsMap": {},
     "title": ""
    }
   },
   "outputs": [],
   "source": [
    "data = [[6, 'Alice'], [2, 'Bob'], [7, 'Alex']]\n",
    "users = pd.DataFrame(data, columns=['user_id', 'user_name']).astype({'user_id': 'Int64', 'user_name': 'object'})\n",
    "data = [[215, 6], [209, 2], [208, 2], [210, 6], [208, 6], [209, 7], [209, 6], [215, 7], [208, 7], [210, 2], [207, 2],\n",
    "        [210, 7]]\n",
    "register = pd.DataFrame(data, columns=['contest_id', 'user_id']).astype({'contest_id': 'Int64', 'user_id': 'Int64'})"
   ]
  },
  {
   "cell_type": "code",
   "execution_count": 0,
   "metadata": {
    "application/vnd.databricks.v1+cell": {
     "cellMetadata": {
      "byteLimit": 2048000,
      "rowLimit": 10000
     },
     "inputWidgets": {},
     "nuid": "3ba71c9f-20de-4cd0-aae3-dcf9a197480e",
     "showTitle": false,
     "tableResultSettingsMap": {},
     "title": ""
    }
   },
   "outputs": [],
   "source": [
    "count_user = users['user_id'].nunique()\n",
    "\n",
    "merged_df = register.merge(users,on='user_id',how='inner')\n",
    "\n",
    "grouped = (\n",
    "    merged_df.groupby('contest_id')['user_id'].count().reset_index(name='user_count')\n",
    ")\n",
    "grouped['percentage'] = round(100 * grouped['user_count'] / count_user ,2)\n",
    "result = grouped[['contest_id','percentage']].sort_values(by=['percentage', 'contest_id'], ascending=[False, True])\n"
   ]
  },
  {
   "cell_type": "code",
   "execution_count": 0,
   "metadata": {
    "application/vnd.databricks.v1+cell": {
     "cellMetadata": {
      "byteLimit": 2048000,
      "rowLimit": 10000
     },
     "inputWidgets": {},
     "nuid": "90c2c5db-4b2f-4b41-985d-ab21db0bbeea",
     "showTitle": false,
     "tableResultSettingsMap": {},
     "title": ""
    }
   },
   "outputs": [
    {
     "output_type": "display_data",
     "data": {
      "text/html": [
       "<div>\n",
       "<style scoped>\n",
       "    .dataframe tbody tr th:only-of-type {\n",
       "        vertical-align: middle;\n",
       "    }\n",
       "\n",
       "    .dataframe tbody tr th {\n",
       "        vertical-align: top;\n",
       "    }\n",
       "\n",
       "    .dataframe thead th {\n",
       "        text-align: right;\n",
       "    }\n",
       "</style>\n",
       "<table border=\"1\" class=\"dataframe\">\n",
       "  <thead>\n",
       "    <tr style=\"text-align: right;\">\n",
       "      <th></th>\n",
       "      <th>contest_id</th>\n",
       "      <th>percentage</th>\n",
       "    </tr>\n",
       "  </thead>\n",
       "  <tbody>\n",
       "    <tr>\n",
       "      <th>1</th>\n",
       "      <td>208</td>\n",
       "      <td>100.00</td>\n",
       "    </tr>\n",
       "    <tr>\n",
       "      <th>2</th>\n",
       "      <td>209</td>\n",
       "      <td>100.00</td>\n",
       "    </tr>\n",
       "    <tr>\n",
       "      <th>3</th>\n",
       "      <td>210</td>\n",
       "      <td>100.00</td>\n",
       "    </tr>\n",
       "    <tr>\n",
       "      <th>4</th>\n",
       "      <td>215</td>\n",
       "      <td>66.67</td>\n",
       "    </tr>\n",
       "    <tr>\n",
       "      <th>0</th>\n",
       "      <td>207</td>\n",
       "      <td>33.33</td>\n",
       "    </tr>\n",
       "  </tbody>\n",
       "</table>\n",
       "</div>"
      ]
     },
     "metadata": {
      "application/vnd.databricks.v1+output": {
       "addedWidgets": {},
       "arguments": {},
       "data": "<div>\n<style scoped>\n    .dataframe tbody tr th:only-of-type {\n        vertical-align: middle;\n    }\n\n    .dataframe tbody tr th {\n        vertical-align: top;\n    }\n\n    .dataframe thead th {\n        text-align: right;\n    }\n</style>\n<table border=\"1\" class=\"dataframe\">\n  <thead>\n    <tr style=\"text-align: right;\">\n      <th></th>\n      <th>contest_id</th>\n      <th>percentage</th>\n    </tr>\n  </thead>\n  <tbody>\n    <tr>\n      <th>1</th>\n      <td>208</td>\n      <td>100.00</td>\n    </tr>\n    <tr>\n      <th>2</th>\n      <td>209</td>\n      <td>100.00</td>\n    </tr>\n    <tr>\n      <th>3</th>\n      <td>210</td>\n      <td>100.00</td>\n    </tr>\n    <tr>\n      <th>4</th>\n      <td>215</td>\n      <td>66.67</td>\n    </tr>\n    <tr>\n      <th>0</th>\n      <td>207</td>\n      <td>33.33</td>\n    </tr>\n  </tbody>\n</table>\n</div>",
       "datasetInfos": [],
       "metadata": {},
       "removedWidgets": [],
       "textData": null,
       "type": "htmlSandbox"
      }
     },
     "output_type": "display_data"
    }
   ],
   "source": [
    "result"
   ]
  },
  {
   "cell_type": "code",
   "execution_count": 0,
   "metadata": {
    "application/vnd.databricks.v1+cell": {
     "cellMetadata": {
      "byteLimit": 2048000,
      "rowLimit": 10000
     },
     "inputWidgets": {},
     "nuid": "ec12a586-c0d8-4795-82b9-b685adb38f71",
     "showTitle": false,
     "tableResultSettingsMap": {},
     "title": ""
    }
   },
   "outputs": [
    {
     "output_type": "stream",
     "name": "stdout",
     "output_type": "stream",
     "text": [
      "+-------+---------+\n|user_id|user_name|\n+-------+---------+\n|6      |Alice    |\n|2      |Bob      |\n|7      |Alex     |\n+-------+---------+\n\n"
     ]
    }
   ],
   "source": [
    "users_df = spark.createDataFrame(users)\n",
    "users_df.show(truncate=False)"
   ]
  },
  {
   "cell_type": "code",
   "execution_count": 0,
   "metadata": {
    "application/vnd.databricks.v1+cell": {
     "cellMetadata": {
      "byteLimit": 2048000,
      "rowLimit": 10000
     },
     "inputWidgets": {},
     "nuid": "41115705-d6ea-4d9d-baea-bdc94332bdfa",
     "showTitle": false,
     "tableResultSettingsMap": {},
     "title": ""
    }
   },
   "outputs": [
    {
     "output_type": "stream",
     "name": "stdout",
     "output_type": "stream",
     "text": [
      "+----------+-------+\n|contest_id|user_id|\n+----------+-------+\n|215       |6      |\n|209       |2      |\n|208       |2      |\n|210       |6      |\n|208       |6      |\n|209       |7      |\n|209       |6      |\n|215       |7      |\n|208       |7      |\n|210       |2      |\n|207       |2      |\n|210       |7      |\n+----------+-------+\n\n"
     ]
    }
   ],
   "source": [
    "register_df = spark.createDataFrame(register)\n",
    "register_df.show(truncate=False)"
   ]
  },
  {
   "cell_type": "code",
   "execution_count": 0,
   "metadata": {
    "application/vnd.databricks.v1+cell": {
     "cellMetadata": {
      "byteLimit": 2048000,
      "rowLimit": 10000
     },
     "inputWidgets": {},
     "nuid": "cb833b78-e2e6-4092-8950-62bf9d21b549",
     "showTitle": false,
     "tableResultSettingsMap": {},
     "title": ""
    }
   },
   "outputs": [
    {
     "output_type": "stream",
     "name": "stdout",
     "output_type": "stream",
     "text": [
      "+----------+----------+\n|contest_id|percentage|\n+----------+----------+\n|       208|     100.0|\n|       209|     100.0|\n|       210|     100.0|\n|       215|     66.67|\n|       207|     33.33|\n+----------+----------+\n\n"
     ]
    }
   ],
   "source": [
    "total_users = users_df.count()\n",
    "\n",
    "result_df = (\n",
    "    register_df.join(users_df, on=['user_id'], how='inner')\n",
    "    .groupBy('contest_id')\n",
    "    .agg(F.count('user_id').alias('user_count'))\n",
    "    .withColumn('percentage', F.round(100 * F.col('user_count')/ total_users,2))\n",
    "    .drop('user_count')\n",
    "    .orderBy(F.col('percentage').desc(), 'contest_id')\n",
    ").show()"
   ]
  },
  {
   "cell_type": "code",
   "execution_count": 0,
   "metadata": {
    "application/vnd.databricks.v1+cell": {
     "cellMetadata": {
      "byteLimit": 2048000,
      "rowLimit": 10000
     },
     "inputWidgets": {},
     "nuid": "78e05a70-034a-4ccc-9d3a-c9a2f975571b",
     "showTitle": false,
     "tableResultSettingsMap": {},
     "title": ""
    }
   },
   "outputs": [
    {
     "output_type": "stream",
     "name": "stdout",
     "output_type": "stream",
     "text": [
      "+----------+----------+\n|contest_id|percentage|\n+----------+----------+\n|       208|     100.0|\n|       209|     100.0|\n|       210|     100.0|\n|       215|     66.67|\n|       207|     33.33|\n+----------+----------+\n\n"
     ]
    }
   ],
   "source": [
    "users_df.createOrReplaceTempView('users')\n",
    "register_df.createOrReplaceTempView('register')\n",
    "\n",
    "spark.sql(\n",
    "        '''\n",
    "        SELECT contest_id, \n",
    "                round(100 * count(register.user_id)/(select count(user_id) from users),2) as percentage\n",
    "        FROM register\n",
    "        INNER JOIN users\n",
    "        on register.user_id = users.user_id\n",
    "        GROUP BY contest_id\n",
    "        ORDER BY percentage desc, contest_id asc;\n",
    "        '''\n",
    ").show()"
   ]
  },
  {
   "cell_type": "markdown",
   "metadata": {
    "application/vnd.databricks.v1+cell": {
     "cellMetadata": {
      "byteLimit": 2048000,
      "rowLimit": 10000
     },
     "inputWidgets": {},
     "nuid": "415a9cfa-b94f-4528-856a-baa1cc48294b",
     "showTitle": false,
     "tableResultSettingsMap": {},
     "title": ""
    }
   },
   "source": [
    "[1211. Queries Quality and Percentage](https://leetcode.com/problems/queries-quality-and-percentage/description/?envType=study-plan-v2&envId=top-sql-50)"
   ]
  },
  {
   "cell_type": "code",
   "execution_count": 0,
   "metadata": {
    "application/vnd.databricks.v1+cell": {
     "cellMetadata": {
      "byteLimit": 2048000,
      "rowLimit": 10000
     },
     "inputWidgets": {},
     "nuid": "5f09361f-84f7-4667-9c49-47edf8ceb431",
     "showTitle": false,
     "tableResultSettingsMap": {},
     "title": ""
    }
   },
   "outputs": [],
   "source": [
    "data = [['Dog', 'Golden Retriever', 1, 5], ['Dog', 'German Shepherd', 2, 5], ['Dog', 'Mule', 200, 1],\n",
    "        ['Cat', 'Shirazi', 5, 2], ['Cat', 'Siamese', 3, 3], ['Cat', 'Sphynx', 7, 4]]\n",
    "queries = pd.DataFrame(data, columns=['query_name', 'result', 'position', 'rating']).astype(\n",
    "    {'query_name': 'object', 'result': 'object', 'position': 'Int64', 'rating': 'Int64'})"
   ]
  },
  {
   "cell_type": "code",
   "execution_count": 0,
   "metadata": {
    "application/vnd.databricks.v1+cell": {
     "cellMetadata": {
      "byteLimit": 2048000,
      "rowLimit": 10000
     },
     "inputWidgets": {},
     "nuid": "269b802d-1c4c-48d6-9435-dbbd16fe9e2a",
     "showTitle": false,
     "tableResultSettingsMap": {},
     "title": ""
    }
   },
   "outputs": [
    {
     "output_type": "stream",
     "name": "stdout",
     "output_type": "stream",
     "text": [
      "  query_name  rating_by_position  poor_query_percentage\n0        Cat                0.66                  33.33\n1        Dog                 2.5                  33.33\n"
     ]
    }
   ],
   "source": [
    "queries['rating_by_position'] = queries['rating'] / queries['position']\n",
    "quality_df = queries.groupby('query_name')['rating_by_position'].mean().round(2).reset_index()\n",
    "\n",
    "# 2. Calculate poor_query_percentage: percentage of rating < 3 per query_name\n",
    "queries['is_poor'] = queries['rating'] < 3\n",
    "poor_df = queries.groupby('query_name')['is_poor'].mean().mul(100).round(2).reset_index()\n",
    "poor_df.rename(columns={'is_poor': 'poor_query_percentage'}, inplace=True)\n",
    "\n",
    "# 3. Merge the two results\n",
    "result = pd.merge(quality_df, poor_df, on='query_name')\n",
    "\n",
    "# Optional: Sort if needed\n",
    "result = result.sort_values(by=['poor_query_percentage', 'query_name'], ascending=[False, True])\n",
    "\n",
    "# Show final result\n",
    "print(result)\n"
   ]
  },
  {
   "cell_type": "code",
   "execution_count": 0,
   "metadata": {
    "application/vnd.databricks.v1+cell": {
     "cellMetadata": {
      "byteLimit": 2048000,
      "rowLimit": 10000
     },
     "inputWidgets": {},
     "nuid": "a2eb9209-2a4f-473b-b88f-32e2d0dbbf67",
     "showTitle": false,
     "tableResultSettingsMap": {},
     "title": ""
    }
   },
   "outputs": [
    {
     "output_type": "stream",
     "name": "stdout",
     "output_type": "stream",
     "text": [
      "+----------+----------------+--------+------+------------------+-------+\n|query_name|result          |position|rating|rating_by_position|is_poor|\n+----------+----------------+--------+------+------------------+-------+\n|Dog       |Golden Retriever|1       |5     |5.0               |false  |\n|Dog       |German Shepherd |2       |5     |2.5               |false  |\n|Dog       |Mule            |200     |1     |0.005             |true   |\n|Cat       |Shirazi         |5       |2     |0.4               |true   |\n|Cat       |Siamese         |3       |3     |1.0               |false  |\n|Cat       |Sphynx          |7       |4     |0.5714285714285714|false  |\n+----------+----------------+--------+------+------------------+-------+\n\n"
     ]
    }
   ],
   "source": [
    "queries_df = spark.createDataFrame(queries)\n",
    "queries_df.show(truncate=False)"
   ]
  },
  {
   "cell_type": "code",
   "execution_count": 0,
   "metadata": {
    "application/vnd.databricks.v1+cell": {
     "cellMetadata": {
      "byteLimit": 2048000,
      "rowLimit": 10000
     },
     "inputWidgets": {},
     "nuid": "c485dbe2-ee85-40f4-b15f-3e15a9d2426e",
     "showTitle": false,
     "tableResultSettingsMap": {},
     "title": ""
    }
   },
   "outputs": [
    {
     "output_type": "stream",
     "name": "stdout",
     "output_type": "stream",
     "text": [
      "+----------+-------+---------------------+\n|query_name|quality|poor_query_percentage|\n+----------+-------+---------------------+\n|       Dog|    2.5|                33.33|\n|       Cat|   0.66|                33.33|\n+----------+-------+---------------------+\n\n"
     ]
    }
   ],
   "source": [
    "queries_df \\\n",
    "    .groupBy('query_name') \\\n",
    "    .agg(\n",
    "    F.round(F.avg(F.col('rating') / F.col('position')), 2).alias('quality'),\n",
    "    F.round(F.avg(F.when(F.col('rating') < 3, 1).otherwise(0)) * 100, 2).alias('poor_query_percentage')\n",
    ").show()"
   ]
  },
  {
   "cell_type": "code",
   "execution_count": 0,
   "metadata": {
    "application/vnd.databricks.v1+cell": {
     "cellMetadata": {
      "byteLimit": 2048000,
      "rowLimit": 10000
     },
     "inputWidgets": {},
     "nuid": "5fa6895e-c984-4ade-aa3a-862591a95053",
     "showTitle": false,
     "tableResultSettingsMap": {},
     "title": ""
    }
   },
   "outputs": [
    {
     "output_type": "stream",
     "name": "stdout",
     "output_type": "stream",
     "text": [
      "+----------+-------+---------------------+\n|query_name|quality|poor_query_percentage|\n+----------+-------+---------------------+\n|       Dog|    2.5|                33.33|\n|       Cat|   0.66|                33.33|\n+----------+-------+---------------------+\n\n"
     ]
    }
   ],
   "source": [
    "queries_df.createOrReplaceTempView('queries')\n",
    "spark.sql(\n",
    "'''SELECT \n",
    "    q1.query_name, \n",
    "    ROUND(AVG(q1.rating / q1.position), 2) AS quality,\n",
    "    ROUND(100.0 * SUM(CASE WHEN q2.rating < 3 THEN 1 ELSE 0 END) / COUNT(q2.rating), 2) AS poor_query_percentage\n",
    "FROM queries q1\n",
    "JOIN queries q2 ON q1.query_name = q2.query_name\n",
    "GROUP BY q1.query_name;''').show()"
   ]
  },
  {
   "cell_type": "markdown",
   "metadata": {
    "application/vnd.databricks.v1+cell": {
     "cellMetadata": {
      "byteLimit": 2048000,
      "rowLimit": 10000
     },
     "inputWidgets": {},
     "nuid": "cfb4a7aa-63df-4930-a9db-b77d18fd4600",
     "showTitle": false,
     "tableResultSettingsMap": {},
     "title": ""
    }
   },
   "source": [
    "[1193. Monthly Transactions I](https://leetcode.com/problems/monthly-transactions-i/description/?envType=study-plan-v2&envId=top-sql-50)"
   ]
  },
  {
   "cell_type": "code",
   "execution_count": 0,
   "metadata": {
    "application/vnd.databricks.v1+cell": {
     "cellMetadata": {
      "byteLimit": 2048000,
      "rowLimit": 10000
     },
     "inputWidgets": {},
     "nuid": "e497c277-567e-490c-ab79-d9e455ddfae2",
     "showTitle": false,
     "tableResultSettingsMap": {},
     "title": ""
    }
   },
   "outputs": [],
   "source": [
    "data = [[121, 'US', 'approved', 1000, '2018-12-18'], [122, 'US', 'declined', 2000, '2018-12-19'],\n",
    "        [123, 'US', 'approved', 2000, '2019-01-01'], [124, 'DE', 'approved', 2000, '2019-01-07']]\n",
    "transactions = pd.DataFrame(data, columns=['id', 'country', 'state', 'amount', 'trans_date']).astype(\n",
    "    {'id': 'Int64', 'country': 'object', 'state': 'object', 'amount': 'Int64', 'trans_date': 'datetime64[ns]'})"
   ]
  },
  {
   "cell_type": "code",
   "execution_count": 0,
   "metadata": {
    "application/vnd.databricks.v1+cell": {
     "cellMetadata": {
      "byteLimit": 2048000,
      "rowLimit": 10000
     },
     "inputWidgets": {},
     "nuid": "632520fa-afc4-48e7-90d7-b5fff7796937",
     "showTitle": false,
     "tableResultSettingsMap": {},
     "title": ""
    }
   },
   "outputs": [
    {
     "output_type": "stream",
     "name": "stdout",
     "output_type": "stream",
     "text": [
      "     month country  trans_count  approved_count  trans_total_amount  \\\n0  2018-12      US            2               1                3000   \n1  2019-01      DE            1               1                2000   \n2  2019-01      US            1               1                2000   \n\n   approved_total_amount  \n0                   1000  \n1                   2000  \n2                   2000  \n"
     ]
    }
   ],
   "source": [
    "# Step 1: Add month column\n",
    "transactions['month'] = transactions['trans_date'].dt.to_period('M').astype(str)\n",
    "\n",
    "# Step 2: Group by month and country to calculate all required metrics\n",
    "summary_df = transactions.groupby(['month', 'country']).agg(\n",
    "    trans_count=('id', 'count'),\n",
    "    approved_count=('state', lambda x: (x == 'approved').sum()),\n",
    "    trans_total_amount=('amount', 'sum'),\n",
    "    approved_total_amount=('amount', lambda x: x[transactions.loc[x.index, 'state'] == 'approved'].sum())\n",
    ").reset_index()\n",
    "\n",
    "# View result\n",
    "print(summary_df)\n"
   ]
  },
  {
   "cell_type": "code",
   "execution_count": 0,
   "metadata": {
    "application/vnd.databricks.v1+cell": {
     "cellMetadata": {
      "byteLimit": 2048000,
      "rowLimit": 10000
     },
     "inputWidgets": {},
     "nuid": "b79eb92b-ba7b-4f56-be9b-4b80d4e147dd",
     "showTitle": false,
     "tableResultSettingsMap": {},
     "title": ""
    }
   },
   "outputs": [
    {
     "output_type": "stream",
     "name": "stdout",
     "output_type": "stream",
     "text": [
      "+---+-------+--------+------+-------------------+\n| id|country|   state|amount|         trans_date|\n+---+-------+--------+------+-------------------+\n|121|     US|approved|  1000|2018-12-18 00:00:00|\n|122|     US|declined|  2000|2018-12-19 00:00:00|\n|123|     US|approved|  2000|2019-01-01 00:00:00|\n|124|     DE|approved|  2000|2019-01-07 00:00:00|\n+---+-------+--------+------+-------------------+\n\n"
     ]
    }
   ],
   "source": [
    "transaction_df = spark.createDataFrame(transactions)\n",
    "transaction_df.show()"
   ]
  },
  {
   "cell_type": "code",
   "execution_count": 0,
   "metadata": {
    "application/vnd.databricks.v1+cell": {
     "cellMetadata": {
      "byteLimit": 2048000,
      "rowLimit": 10000
     },
     "inputWidgets": {},
     "nuid": "326df16a-25f0-4dbd-9d7a-6a3608bbc97a",
     "showTitle": false,
     "tableResultSettingsMap": {},
     "title": ""
    }
   },
   "outputs": [
    {
     "output_type": "stream",
     "name": "stdout",
     "output_type": "stream",
     "text": [
      "+-------+-------+-----------+--------------+------------------+---------------------+\n|  month|country|trans_count|approved_count|trans_total_amount|approved_total_amount|\n+-------+-------+-----------+--------------+------------------+---------------------+\n|2018-12|     US|          2|             1|              3000|                 1000|\n|2019-01|     US|          1|             1|              2000|                 2000|\n|2019-01|     DE|          1|             1|              2000|                 2000|\n+-------+-------+-----------+--------------+------------------+---------------------+\n\n"
     ]
    }
   ],
   "source": [
    "transaction_df.withColumn('month',F.substring('trans_date',0,7))\\\n",
    "              .groupBy('month','country')\\\n",
    "              .agg(F.count('id').alias('trans_count')\\\n",
    "                   ,F.sum(F.when(F.col('state')=='approved',1).otherwise(0)).alias('approved_count')\\\n",
    "                   ,F.sum('amount').alias('trans_total_amount')\\\n",
    "                   ,F.sum(F.when(F.col('state') == 'approved', F.col('amount')).otherwise(0)).alias('approved_total_amount')).show()"
   ]
  },
  {
   "cell_type": "code",
   "execution_count": 0,
   "metadata": {
    "application/vnd.databricks.v1+cell": {
     "cellMetadata": {
      "byteLimit": 2048000,
      "rowLimit": 10000
     },
     "inputWidgets": {},
     "nuid": "a645f621-25fd-460c-98e7-78be193921ca",
     "showTitle": false,
     "tableResultSettingsMap": {},
     "title": ""
    }
   },
   "outputs": [
    {
     "output_type": "stream",
     "name": "stdout",
     "output_type": "stream",
     "text": [
      "+-------+-------+-----------+--------------+------------------+---------------------+\n|  month|country|trans_count|approved_count|trans_total_amount|approved_total_amount|\n+-------+-------+-----------+--------------+------------------+---------------------+\n|2018-12|     US|          2|             1|              3000|                 1000|\n|2019-01|     US|          1|             1|              2000|                 2000|\n|2019-01|     DE|          1|             1|              2000|                 2000|\n+-------+-------+-----------+--------------+------------------+---------------------+\n\n"
     ]
    }
   ],
   "source": [
    "transaction_df.createTempView('transactions')\n",
    "\n",
    "spark.sql('''\n",
    "          select \n",
    "    left(trans_date,7) as month,\n",
    "    country,\n",
    "    count(id) as trans_count,\n",
    "    sum(case when state='approved' then 1 else 0 end) as approved_count,\n",
    "    sum(amount) as trans_total_amount,\n",
    "    sum(case when state='approved' then amount else 0 end) as approved_total_amount\n",
    "from transactions\n",
    "group by month, country;\n",
    "          ''').show()"
   ]
  },
  {
   "cell_type": "markdown",
   "metadata": {
    "application/vnd.databricks.v1+cell": {
     "cellMetadata": {},
     "inputWidgets": {},
     "nuid": "4e63bb29-e045-4254-bfc6-3b4fb00acaae",
     "showTitle": false,
     "tableResultSettingsMap": {},
     "title": ""
    }
   },
   "source": [
    "[1174. Immediate Food Delivery II](https://leetcode.com/problems/immediate-food-delivery-ii/description/?envType=study-plan-v2&envId=top-sql-50)"
   ]
  },
  {
   "cell_type": "code",
   "execution_count": 0,
   "metadata": {
    "application/vnd.databricks.v1+cell": {
     "cellMetadata": {
      "byteLimit": 2048000,
      "rowLimit": 10000
     },
     "inputWidgets": {},
     "nuid": "2dfe7ca0-d675-4a05-9d14-d4d0b99ff5d6",
     "showTitle": false,
     "tableResultSettingsMap": {},
     "title": ""
    }
   },
   "outputs": [],
   "source": [
    "data = [[1, 1, '2019-08-01', '2019-08-02'], [2, 2, '2019-08-02', '2019-08-02'], [3, 1, '2019-08-11', '2019-08-12'],\n",
    "        [4, 3, '2019-08-24', '2019-08-24'], [5, 3, '2019-08-21', '2019-08-22'], [6, 2, '2019-08-11', '2019-08-13'],\n",
    "        [7, 4, '2019-08-09', '2019-08-09']]\n",
    "delivery = pd.DataFrame(data,\n",
    "                        columns=['delivery_id', 'customer_id', 'order_date', 'customer_pref_delivery_date']).astype(\n",
    "    {'delivery_id': 'Int64', 'customer_id': 'Int64', 'order_date': 'datetime64[ns]',\n",
    "     'customer_pref_delivery_date': 'datetime64[ns]'})"
   ]
  },
  {
   "cell_type": "code",
   "execution_count": 0,
   "metadata": {
    "application/vnd.databricks.v1+cell": {
     "cellMetadata": {
      "byteLimit": 2048000,
      "rowLimit": 10000
     },
     "inputWidgets": {},
     "nuid": "d952a2e6-4357-4c77-9a0f-7c4216eb5f5f",
     "showTitle": false,
     "tableResultSettingsMap": {},
     "title": ""
    }
   },
   "outputs": [],
   "source": [
    "first_orders = delivery.sort_values(by=['customer_id','order_date']).drop_duplicates(subset='customer_id',keep='first')\n",
    "immediate_matches = (first_orders['order_date'] == first_orders['customer_pref_delivery_date']).sum()\n",
    "total_first_orders = len(first_orders)\n",
    "immediate_percentage = round((immediate_matches / total_first_orders) * 100,2)"
   ]
  },
  {
   "cell_type": "code",
   "execution_count": 0,
   "metadata": {
    "application/vnd.databricks.v1+cell": {
     "cellMetadata": {
      "byteLimit": 2048000,
      "rowLimit": 10000
     },
     "inputWidgets": {},
     "nuid": "6b7b6153-b116-4dfc-b1c7-fd991673cf11",
     "showTitle": false,
     "tableResultSettingsMap": {},
     "title": ""
    }
   },
   "outputs": [
    {
     "output_type": "stream",
     "name": "stdout",
     "output_type": "stream",
     "text": [
      "Out[67]: 50.0"
     ]
    }
   ],
   "source": [
    "immediate_percentage"
   ]
  },
  {
   "cell_type": "code",
   "execution_count": 0,
   "metadata": {
    "application/vnd.databricks.v1+cell": {
     "cellMetadata": {
      "byteLimit": 2048000,
      "rowLimit": 10000
     },
     "inputWidgets": {},
     "nuid": "358ffda1-9cde-432e-b94a-b37af43b4a42",
     "showTitle": false,
     "tableResultSettingsMap": {},
     "title": ""
    }
   },
   "outputs": [
    {
     "output_type": "stream",
     "name": "stdout",
     "output_type": "stream",
     "text": [
      "+-----------+-----------+-------------------+---------------------------+\n|delivery_id|customer_id|order_date         |customer_pref_delivery_date|\n+-----------+-----------+-------------------+---------------------------+\n|1          |1          |2019-08-01 00:00:00|2019-08-02 00:00:00        |\n|2          |2          |2019-08-02 00:00:00|2019-08-02 00:00:00        |\n|3          |1          |2019-08-11 00:00:00|2019-08-12 00:00:00        |\n|4          |3          |2019-08-24 00:00:00|2019-08-24 00:00:00        |\n|5          |3          |2019-08-21 00:00:00|2019-08-22 00:00:00        |\n|6          |2          |2019-08-11 00:00:00|2019-08-13 00:00:00        |\n|7          |4          |2019-08-09 00:00:00|2019-08-09 00:00:00        |\n+-----------+-----------+-------------------+---------------------------+\n\n"
     ]
    }
   ],
   "source": [
    "delivery_df = spark.createDataFrame(delivery)\n",
    "delivery_df.show(truncate=False)"
   ]
  },
  {
   "cell_type": "code",
   "execution_count": 0,
   "metadata": {
    "application/vnd.databricks.v1+cell": {
     "cellMetadata": {
      "byteLimit": 2048000,
      "rowLimit": 10000
     },
     "inputWidgets": {},
     "nuid": "1fef4683-3a82-48ed-b926-d046f8b565a0",
     "showTitle": false,
     "tableResultSettingsMap": {},
     "title": ""
    }
   },
   "outputs": [
    {
     "output_type": "stream",
     "name": "stdout",
     "output_type": "stream",
     "text": [
      "+--------------------+\n|immediate_percentage|\n+--------------------+\n|                50.0|\n+--------------------+\n\n"
     ]
    }
   ],
   "source": [
    "from pyspark.sql import Window\n",
    "delivery_df \\\n",
    "    .withColumn('rn', F.row_number().over(Window.partitionBy('customer_id').orderBy('order_date'))) \\\n",
    "    .filter(F.col('rn') == 1) \\\n",
    "    .agg(\n",
    "    F.round(100*\n",
    "        F.sum(F.when(F.col('order_date') == F.col('customer_pref_delivery_date'), 1).otherwise(0)) / F.count('*'),\n",
    "        2) \\\n",
    "        .alias('immediate_percentage')\n",
    ") \\\n",
    "    .show()"
   ]
  },
  {
   "cell_type": "code",
   "execution_count": 0,
   "metadata": {
    "application/vnd.databricks.v1+cell": {
     "cellMetadata": {
      "byteLimit": 2048000,
      "rowLimit": 10000
     },
     "inputWidgets": {},
     "nuid": "5217e7bd-a0c1-49f6-bea6-87f61184d182",
     "showTitle": false,
     "tableResultSettingsMap": {},
     "title": ""
    }
   },
   "outputs": [
    {
     "output_type": "stream",
     "name": "stdout",
     "output_type": "stream",
     "text": [
      "+--------------------+\n|immediate_percentage|\n+--------------------+\n|                50.0|\n+--------------------+\n\n"
     ]
    }
   ],
   "source": [
    "delivery_df.createOrReplaceTempView('delivery')\n",
    "\n",
    "spark.sql('''\n",
    "with tbl as (\n",
    "select *, row_number() over (partition by customer_id order by order_date) as rn\n",
    "from delivery\n",
    ")\n",
    "select \n",
    "    round(\n",
    "    100*sum(case when order_date=customer_pref_delivery_date then 1 else 0 end)/count(*),\n",
    "    2) as immediate_percentage\n",
    "from tbl\n",
    "where rn = 1;\n",
    "''').show()"
   ]
  },
  {
   "cell_type": "markdown",
   "metadata": {
    "application/vnd.databricks.v1+cell": {
     "cellMetadata": {},
     "inputWidgets": {},
     "nuid": "30a3cef4-5f76-4693-b450-5d353bf0533a",
     "showTitle": false,
     "tableResultSettingsMap": {},
     "title": ""
    }
   },
   "source": [
    "[550. Game Play Analysis IV](https://leetcode.com/problems/game-play-analysis-iv/description/?envType=study-plan-v2&envId=top-sql-50)"
   ]
  },
  {
   "cell_type": "code",
   "execution_count": 0,
   "metadata": {
    "application/vnd.databricks.v1+cell": {
     "cellMetadata": {
      "byteLimit": 2048000,
      "rowLimit": 10000
     },
     "inputWidgets": {},
     "nuid": "191cfe9a-4747-4ced-ab17-5e286488309f",
     "showTitle": false,
     "tableResultSettingsMap": {},
     "title": ""
    }
   },
   "outputs": [],
   "source": [
    "data = [[1, 2, '2016-03-01', 5], [1, 2, '2016-03-02', 6], [2, 3, '2017-06-25', 1], [3, 1, '2016-03-02', 0],\n",
    "        [3, 4, '2018-07-03', 5]]\n",
    "activity = pd.DataFrame(data, columns=['player_id', 'device_id', 'event_date', 'games_played']).astype(\n",
    "    {'player_id': 'Int64', 'device_id': 'Int64', 'event_date': 'datetime64[ns]', 'games_played': 'Int64'})"
   ]
  },
  {
   "cell_type": "code",
   "execution_count": 0,
   "metadata": {
    "application/vnd.databricks.v1+cell": {
     "cellMetadata": {
      "byteLimit": 2048000,
      "rowLimit": 10000
     },
     "inputWidgets": {},
     "nuid": "61c83d36-357a-482d-8899-1520f7120629",
     "showTitle": false,
     "tableResultSettingsMap": {},
     "title": ""
    }
   },
   "outputs": [
    {
     "output_type": "stream",
     "name": "stdout",
     "output_type": "stream",
     "text": [
      "   fraction\n0      0.33\n"
     ]
    }
   ],
   "source": [
    "first_login_df = activity.sort_values(by=['player_id', 'event_date']).drop_duplicates(subset='player_id', keep='first')\n",
    "\n",
    "# Step 2: Merge first login back with full data to get next day's record\n",
    "merged = pd.merge(first_login_df[['player_id', 'event_date']], activity, on='player_id')\n",
    "\n",
    "# Step 3: Check if any event_date in full data is exactly one day after first login\n",
    "merged['is_next_day'] = merged['event_date_y'] == merged['event_date_x'] + pd.Timedelta(days=1)\n",
    "\n",
    "# Step 4: For each player, check if at least one next-day login exists\n",
    "next_day_login = merged.groupby('player_id')['is_next_day'].any().reset_index()\n",
    "\n",
    "# Step 5: Compute the fraction\n",
    "fraction = round(next_day_login['is_next_day'].sum() / len(next_day_login), 2)\n",
    "\n",
    "# Step 6: Display as DataFrame\n",
    "result = pd.DataFrame({'fraction': [fraction]})\n",
    "print(result)"
   ]
  },
  {
   "cell_type": "code",
   "execution_count": 0,
   "metadata": {
    "application/vnd.databricks.v1+cell": {
     "cellMetadata": {
      "byteLimit": 2048000,
      "rowLimit": 10000
     },
     "inputWidgets": {},
     "nuid": "b9698a46-b3f2-46ea-99b2-6aa2a1e1597c",
     "showTitle": false,
     "tableResultSettingsMap": {},
     "title": ""
    }
   },
   "outputs": [
    {
     "output_type": "stream",
     "name": "stdout",
     "output_type": "stream",
     "text": [
      "+---------+---------+-------------------+------------+\n|player_id|device_id|event_date         |games_played|\n+---------+---------+-------------------+------------+\n|1        |2        |2016-03-01 00:00:00|5           |\n|1        |2        |2016-03-02 00:00:00|6           |\n|2        |3        |2017-06-25 00:00:00|1           |\n|3        |1        |2016-03-02 00:00:00|0           |\n|3        |4        |2018-07-03 00:00:00|5           |\n+---------+---------+-------------------+------------+\n\n"
     ]
    }
   ],
   "source": [
    "activity_df = spark.createDataFrame(activity)\n",
    "activity_df.show(truncate=False)"
   ]
  },
  {
   "cell_type": "code",
   "execution_count": 0,
   "metadata": {
    "application/vnd.databricks.v1+cell": {
     "cellMetadata": {
      "byteLimit": 2048000,
      "rowLimit": 10000
     },
     "inputWidgets": {},
     "nuid": "f2423985-3d86-4467-9d3e-327535fc8f20",
     "showTitle": false,
     "tableResultSettingsMap": {},
     "title": ""
    }
   },
   "outputs": [
    {
     "output_type": "stream",
     "name": "stdout",
     "output_type": "stream",
     "text": [
      "+--------+\n|fraction|\n+--------+\n|    0.33|\n+--------+\n\n"
     ]
    }
   ],
   "source": [
    "activity_df.withColumn('next_date',\n",
    "                       F.lead('event_date').over(Window.partitionBy('player_id').orderBy('event_date'))\n",
    "                       ) \\\n",
    "    .withColumn('rn', F.row_number().over(Window.partitionBy('player_id').orderBy('event_date'))) \\\n",
    "    .filter(F.col('rn') == 1) \\\n",
    "    .agg(\n",
    "    F.round(\n",
    "        F.sum(F.when(F.datediff(F.col('next_date'), F.col('event_date')) == 1, 1).otherwise(0)) / F.count('player_id')\n",
    "        , 2).alias('fraction')\n",
    ") \\\n",
    "    .show()"
   ]
  },
  {
   "cell_type": "code",
   "execution_count": 0,
   "metadata": {
    "application/vnd.databricks.v1+cell": {
     "cellMetadata": {
      "byteLimit": 2048000,
      "rowLimit": 10000
     },
     "inputWidgets": {},
     "nuid": "a2d0f99c-f35a-4286-a5f7-075fb313a29f",
     "showTitle": false,
     "tableResultSettingsMap": {},
     "title": ""
    }
   },
   "outputs": [
    {
     "output_type": "stream",
     "name": "stdout",
     "output_type": "stream",
     "text": [
      "+--------+\n|fraction|\n+--------+\n|    0.33|\n+--------+\n\n"
     ]
    }
   ],
   "source": [
    "activity_df.createOrReplaceTempView('activity')\n",
    "\n",
    "spark.sql('''\n",
    "with tbl as (\n",
    "    select \n",
    "        *,\n",
    "        lead(event_date) over (partition by player_id order by event_date) as next_date,\n",
    "        row_number() over (partition by player_id order by event_date) as rn\n",
    "    from activity\n",
    ")\n",
    "select \n",
    "    round(\n",
    "    sum(case when datediff(next_date,event_date)=1 then 1 else 0 end)/count(*)\n",
    "    ,2) as fraction \n",
    "from tbl\n",
    "where rn=1;\n",
    "''').show()"
   ]
  },
  {
   "cell_type": "code",
   "execution_count": 0,
   "metadata": {
    "application/vnd.databricks.v1+cell": {
     "cellMetadata": {},
     "inputWidgets": {},
     "nuid": "2af3c489-9fcb-43a0-ab30-9b7823a5f68a",
     "showTitle": false,
     "tableResultSettingsMap": {},
     "title": ""
    }
   },
   "outputs": [],
   "source": [
    "spark.stop()"
   ]
  }
 ],
 "metadata": {
  "application/vnd.databricks.v1+notebook": {
   "computePreferences": null,
   "dashboards": [],
   "environmentMetadata": {
    "base_environment": "",
    "environment_version": "1"
   },
   "inputWidgetPreferences": null,
   "language": "python",
   "notebookMetadata": {
    "pythonIndentUnit": 4
   },
   "notebookName": "Aggregation",
   "widgets": {}
  }
 },
 "nbformat": 4,
 "nbformat_minor": 0
}