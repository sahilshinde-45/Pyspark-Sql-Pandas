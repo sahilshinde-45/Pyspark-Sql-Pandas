{
 "cells": [
  {
   "cell_type": "markdown",
   "metadata": {
    "application/vnd.databricks.v1+cell": {
     "cellMetadata": {
      "byteLimit": 2048000,
      "rowLimit": 10000
     },
     "inputWidgets": {},
     "nuid": "02a9c6c4-defe-45f6-872c-cb245a8a2945",
     "showTitle": false,
     "tableResultSettingsMap": {},
     "title": ""
    }
   },
   "source": [
    "[Number of Unique Subjects Taught by Each Teacher ](https://leetcode.com/problems/number-of-unique-subjects-taught-by-each-teacher/description/?envType=study-plan-v2&envId=top-sql-50)"
   ]
  },
  {
   "cell_type": "code",
   "execution_count": 0,
   "metadata": {
    "application/vnd.databricks.v1+cell": {
     "cellMetadata": {
      "byteLimit": 2048000,
      "rowLimit": 10000
     },
     "inputWidgets": {},
     "nuid": "2fced757-1509-4592-8f7d-1ac39fda9fc9",
     "showTitle": false,
     "tableResultSettingsMap": {},
     "title": ""
    }
   },
   "outputs": [
    {
     "output_type": "display_data",
     "data": {
      "application/vnd.databricks.v1+bamboolib_hint": "{\"pd.DataFrames\": [], \"version\": \"0.0.1\"}",
      "text/plain": []
     },
     "metadata": {},
     "output_type": "display_data"
    }
   ],
   "source": [
    "import pandas as pd\n",
    "\n",
    "data = [[1, 2, 3], [1, 2, 4], [1, 3, 3], [2, 1, 1], [2, 2, 1], [2, 3, 1], [2, 4, 1]]\n",
    "teacher = pd.DataFrame(data, columns=['teacher_id', 'subject_id', 'dept_id']).astype(\n",
    "    {'teacher_id': 'Int64', 'subject_id': 'Int64', 'dept_id': 'Int64'})"
   ]
  },
  {
   "cell_type": "code",
   "execution_count": 0,
   "metadata": {
    "application/vnd.databricks.v1+cell": {
     "cellMetadata": {
      "byteLimit": 2048000,
      "rowLimit": 10000
     },
     "inputWidgets": {},
     "nuid": "8e2c554c-5710-4431-a7b6-a8bc72dab513",
     "showTitle": false,
     "tableResultSettingsMap": {},
     "title": ""
    }
   },
   "outputs": [
    {
     "output_type": "stream",
     "name": "stdout",
     "output_type": "stream",
     "text": [
      "   teacher_id  cnt\n0           1    2\n1           2    4\n"
     ]
    }
   ],
   "source": [
    "result = teacher.groupby('teacher_id')['subject_id'].nunique().reset_index()\n",
    "result.rename(columns={'subject_id':'cnt'}, inplace=True)\n",
    "print(result)"
   ]
  },
  {
   "cell_type": "code",
   "execution_count": 0,
   "metadata": {
    "application/vnd.databricks.v1+cell": {
     "cellMetadata": {
      "byteLimit": 2048000,
      "rowLimit": 10000
     },
     "inputWidgets": {},
     "nuid": "991b9596-8f5e-44eb-8a6e-1846b07819e6",
     "showTitle": false,
     "tableResultSettingsMap": {},
     "title": ""
    }
   },
   "outputs": [
    {
     "output_type": "stream",
     "name": "stdout",
     "output_type": "stream",
     "text": [
      "+----------+----------+-------+\n|teacher_id|subject_id|dept_id|\n+----------+----------+-------+\n|         1|         2|      3|\n|         1|         2|      4|\n|         1|         3|      3|\n|         2|         1|      1|\n|         2|         2|      1|\n|         2|         3|      1|\n|         2|         4|      1|\n+----------+----------+-------+\n\n"
     ]
    }
   ],
   "source": [
    "from pyspark.sql import SparkSession\n",
    "\n",
    "spark = SparkSession.builder.getOrCreate()\n",
    "\n",
    "teacher_df = spark.createDataFrame(teacher)\n",
    "teacher_df.show()"
   ]
  },
  {
   "cell_type": "code",
   "execution_count": 0,
   "metadata": {
    "application/vnd.databricks.v1+cell": {
     "cellMetadata": {
      "byteLimit": 2048000,
      "rowLimit": 10000
     },
     "inputWidgets": {},
     "nuid": "b710b0b6-a270-487f-b8ba-445ba6ecca40",
     "showTitle": false,
     "tableResultSettingsMap": {},
     "title": ""
    }
   },
   "outputs": [
    {
     "output_type": "stream",
     "name": "stdout",
     "output_type": "stream",
     "text": [
      "+----------+---+\n|teacher_id|cnt|\n+----------+---+\n|         1|  2|\n|         2|  4|\n+----------+---+\n\n"
     ]
    }
   ],
   "source": [
    "import pyspark.sql.functions as F\n",
    "\n",
    "teacher_df \\\n",
    "    .select('teacher_id', 'subject_id') \\\n",
    "    .groupBy('teacher_id') \\\n",
    "    .agg(F.count_distinct('subject_id').alias('cnt')) \\\n",
    "    .show()"
   ]
  },
  {
   "cell_type": "code",
   "execution_count": 0,
   "metadata": {
    "application/vnd.databricks.v1+cell": {
     "cellMetadata": {
      "byteLimit": 2048000,
      "rowLimit": 10000
     },
     "inputWidgets": {},
     "nuid": "12c7239c-3a68-45f8-87f6-0832eea72224",
     "showTitle": false,
     "tableResultSettingsMap": {},
     "title": ""
    }
   },
   "outputs": [
    {
     "output_type": "stream",
     "name": "stdout",
     "output_type": "stream",
     "text": [
      "+----------+---+\n|teacher_id|cnt|\n+----------+---+\n|         1|  2|\n|         2|  4|\n+----------+---+\n\n"
     ]
    }
   ],
   "source": [
    "teacher_df.createOrReplaceTempView('teacher')\n",
    "\n",
    "spark.sql('''\n",
    "select \n",
    "    teacher_id,\n",
    "    count(distinct subject_id) as cnt \n",
    "from teacher\n",
    "group by teacher_id\n",
    "''').show()"
   ]
  },
  {
   "cell_type": "markdown",
   "metadata": {
    "application/vnd.databricks.v1+cell": {
     "cellMetadata": {
      "byteLimit": 2048000,
      "rowLimit": 10000
     },
     "inputWidgets": {},
     "nuid": "129a2ab9-48f2-4fb8-8013-76e5ed2c446a",
     "showTitle": false,
     "tableResultSettingsMap": {},
     "title": ""
    }
   },
   "source": [
    "[1141. User Activity for the Past 30 Days I](https://leetcode.com/problems/user-activity-for-the-past-30-days-i/description/?envType=study-plan-v2&envId=top-sql-50)"
   ]
  },
  {
   "cell_type": "code",
   "execution_count": 0,
   "metadata": {
    "application/vnd.databricks.v1+cell": {
     "cellMetadata": {
      "byteLimit": 2048000,
      "rowLimit": 10000
     },
     "inputWidgets": {},
     "nuid": "48f40a96-16b1-4b83-bf96-f137142c8734",
     "showTitle": false,
     "tableResultSettingsMap": {},
     "title": ""
    }
   },
   "outputs": [],
   "source": [
    "data = [[1, 1, '2019-07-20', 'open_session'], [1, 1, '2019-07-20', 'scroll_down'], [1, 1, '2019-07-20', 'end_session'],\n",
    "        [2, 4, '2019-07-20', 'open_session'], [2, 4, '2019-07-21', 'send_message'], [2, 4, '2019-07-21', 'end_session'],\n",
    "        [3, 2, '2019-07-21', 'open_session'], [3, 2, '2019-07-21', 'send_message'], [3, 2, '2019-07-21', 'end_session'],\n",
    "        [4, 3, '2019-06-25', 'open_session'], [4, 3, '2019-06-25', 'end_session']]\n",
    "activity = pd.DataFrame(data, columns=['user_id', 'session_id', 'activity_date', 'activity_type']).astype(\n",
    "    {'user_id': 'Int64', 'session_id': 'Int64', 'activity_date': 'datetime64[ns]', 'activity_type': 'object'})"
   ]
  },
  {
   "cell_type": "code",
   "execution_count": 0,
   "metadata": {
    "application/vnd.databricks.v1+cell": {
     "cellMetadata": {
      "byteLimit": 2048000,
      "rowLimit": 10000
     },
     "inputWidgets": {},
     "nuid": "5b1c391a-c5dd-4319-86d9-1723489dc236",
     "showTitle": false,
     "tableResultSettingsMap": {},
     "title": ""
    }
   },
   "outputs": [
    {
     "output_type": "stream",
     "name": "stdout",
     "output_type": "stream",
     "text": [
      "  activity_date  active_users\n0    2019-07-20             2\n1    2019-07-21             2\n"
     ]
    }
   ],
   "source": [
    "end_date = pd.to_datetime('2019-07-27')\n",
    "start_date = end_date - pd.Timedelta(days=29)\n",
    "\n",
    "# Filter the date range\n",
    "filtered_df = activity[(activity['activity_date'] >= start_date) & \n",
    "                          (activity['activity_date'] <= end_date)]\n",
    "\n",
    "# Group by activity_date and count distinct user_id\n",
    "result = filtered_df.groupby('activity_date')['user_id'].nunique().reset_index()\n",
    "result.rename(columns={'user_id': 'active_users'}, inplace=True)\n",
    "\n",
    "print(result)"
   ]
  },
  {
   "cell_type": "code",
   "execution_count": 0,
   "metadata": {
    "application/vnd.databricks.v1+cell": {
     "cellMetadata": {
      "byteLimit": 2048000,
      "rowLimit": 10000
     },
     "inputWidgets": {},
     "nuid": "14508d28-e9d5-46c4-a52a-4c1ab59f69b1",
     "showTitle": false,
     "tableResultSettingsMap": {},
     "title": ""
    }
   },
   "outputs": [
    {
     "output_type": "stream",
     "name": "stdout",
     "output_type": "stream",
     "text": [
      "+-------+----------+-------------------+-------------+\n|user_id|session_id|      activity_date|activity_type|\n+-------+----------+-------------------+-------------+\n|      1|         1|2019-07-20 00:00:00| open_session|\n|      1|         1|2019-07-20 00:00:00|  scroll_down|\n|      1|         1|2019-07-20 00:00:00|  end_session|\n|      2|         4|2019-07-20 00:00:00| open_session|\n|      2|         4|2019-07-21 00:00:00| send_message|\n|      2|         4|2019-07-21 00:00:00|  end_session|\n|      3|         2|2019-07-21 00:00:00| open_session|\n|      3|         2|2019-07-21 00:00:00| send_message|\n|      3|         2|2019-07-21 00:00:00|  end_session|\n|      4|         3|2019-06-25 00:00:00| open_session|\n|      4|         3|2019-06-25 00:00:00|  end_session|\n+-------+----------+-------------------+-------------+\n\n"
     ]
    }
   ],
   "source": [
    "\n",
    "activity_df = spark.createDataFrame(activity)\n",
    "activity_df.show()"
   ]
  },
  {
   "cell_type": "code",
   "execution_count": 0,
   "metadata": {
    "application/vnd.databricks.v1+cell": {
     "cellMetadata": {
      "byteLimit": 2048000,
      "rowLimit": 10000
     },
     "inputWidgets": {},
     "nuid": "fdd04466-e347-4ea2-bd1e-d7dfaba907d3",
     "showTitle": false,
     "tableResultSettingsMap": {},
     "title": ""
    }
   },
   "outputs": [
    {
     "output_type": "stream",
     "name": "stdout",
     "output_type": "stream",
     "text": [
      "+-------------------+------------+\n|      activity_date|active_users|\n+-------------------+------------+\n|2019-07-21 00:00:00|           2|\n|2019-07-20 00:00:00|           2|\n+-------------------+------------+\n\n"
     ]
    }
   ],
   "source": [
    "activity_df.filter(\n",
    "    (F.col('activity_date') <= '2019-07-27')\n",
    "    &\n",
    "    (F.col('activity_date') >= F.date_sub(F.lit('2019-07-27'), 29))) \\\n",
    "    .groupBy('activity_date').agg(F.count_distinct('user_id').alias('active_users')) \\\n",
    "    .show()"
   ]
  },
  {
   "cell_type": "code",
   "execution_count": 0,
   "metadata": {
    "application/vnd.databricks.v1+cell": {
     "cellMetadata": {
      "byteLimit": 2048000,
      "rowLimit": 10000
     },
     "inputWidgets": {},
     "nuid": "76c31899-d267-4be2-a971-a0520ec3688a",
     "showTitle": false,
     "tableResultSettingsMap": {},
     "title": ""
    }
   },
   "outputs": [
    {
     "output_type": "stream",
     "name": "stdout",
     "output_type": "stream",
     "text": [
      "+-------------------+------------+\n|                day|active_users|\n+-------------------+------------+\n|2019-07-21 00:00:00|           2|\n|2019-07-20 00:00:00|           2|\n+-------------------+------------+\n\n"
     ]
    }
   ],
   "source": [
    "activity_df.createOrReplaceTempView('activity')\n",
    "\n",
    "spark.sql('''\n",
    "select activity_date as day, count(distinct user_id) as active_users\n",
    "from activity\n",
    "where activity_date<='2019-07-27' and activity_date>=date_sub('2019-07-27',  29)\n",
    "group by activity_date;\n",
    "''').show()"
   ]
  },
  {
   "cell_type": "markdown",
   "metadata": {
    "application/vnd.databricks.v1+cell": {
     "cellMetadata": {
      "byteLimit": 2048000,
      "rowLimit": 10000
     },
     "inputWidgets": {},
     "nuid": "99c7d9a1-7546-4549-9ece-bbce9fe0be44",
     "showTitle": false,
     "tableResultSettingsMap": {},
     "title": ""
    }
   },
   "source": [
    "[1070. Product Sales Analysis III](https://leetcode.com/problems/product-sales-analysis-iii/description/?envType=study-plan-v2&envId=top-sql-50)"
   ]
  },
  {
   "cell_type": "code",
   "execution_count": 0,
   "metadata": {
    "application/vnd.databricks.v1+cell": {
     "cellMetadata": {
      "byteLimit": 2048000,
      "rowLimit": 10000
     },
     "inputWidgets": {},
     "nuid": "b4729eae-9902-4578-82f4-d9d7defc7413",
     "showTitle": false,
     "tableResultSettingsMap": {},
     "title": ""
    }
   },
   "outputs": [],
   "source": [
    "data = [[1, 100, 2008, 10, 5000], [2, 100, 2009, 12, 5000], [7, 200, 2011, 15, 9000]]\n",
    "sales = pd.DataFrame(data, columns=['sale_id', 'product_id', 'year', 'quantity', 'price']).astype(\n",
    "    {'sale_id': 'Int64', 'product_id': 'Int64', 'year': 'Int64', 'quantity': 'Int64', 'price': 'Int64'})\n",
    "data = [[100, 'Nokia'], [200, 'Apple'], [300, 'Samsung']]\n",
    "product = pd.DataFrame(data, columns=['product_id', 'product_name']).astype(\n",
    "    {'product_id': 'Int64', 'product_name': 'object'})"
   ]
  },
  {
   "cell_type": "code",
   "execution_count": 0,
   "metadata": {
    "application/vnd.databricks.v1+cell": {
     "cellMetadata": {
      "byteLimit": 2048000,
      "rowLimit": 10000
     },
     "inputWidgets": {},
     "nuid": "95a1ea39-0e8a-4eab-81f3-749fb51ab136",
     "showTitle": false,
     "tableResultSettingsMap": {},
     "title": ""
    }
   },
   "outputs": [
    {
     "output_type": "stream",
     "name": "stdout",
     "output_type": "stream",
     "text": [
      "   product_id  first_year  quantity  price\n0         100        2008        10   5000\n1         200        2011        15   9000\n"
     ]
    }
   ],
   "source": [
    "sales_df_sorted = sales.sort_values(by=['product_id', 'year'])\n",
    "\n",
    "# Step 2: Get the first entry per product using groupby and first()\n",
    "first_sales = sales_df_sorted.groupby('product_id', as_index=False).first()\n",
    "\n",
    "# Step 3: Rename the year column to 'first_year'\n",
    "first_sales.rename(columns={'year': 'first_year'}, inplace=True)\n",
    "\n",
    "# View the final result\n",
    "print(first_sales[['product_id', 'first_year', 'quantity', 'price']])"
   ]
  },
  {
   "cell_type": "code",
   "execution_count": 0,
   "metadata": {
    "application/vnd.databricks.v1+cell": {
     "cellMetadata": {
      "byteLimit": 2048000,
      "rowLimit": 10000
     },
     "inputWidgets": {},
     "nuid": "5c08dbbc-5ee4-4fc8-ba9e-fb342a955cda",
     "showTitle": false,
     "tableResultSettingsMap": {},
     "title": ""
    }
   },
   "outputs": [
    {
     "output_type": "stream",
     "name": "stdout",
     "output_type": "stream",
     "text": [
      "+-------+----------+----+--------+-----+\n|sale_id|product_id|year|quantity|price|\n+-------+----------+----+--------+-----+\n|      1|       100|2008|      10| 5000|\n|      2|       100|2009|      12| 5000|\n|      7|       200|2011|      15| 9000|\n+-------+----------+----+--------+-----+\n\n"
     ]
    }
   ],
   "source": [
    "spark = SparkSession.builder.getOrCreate()\n",
    "\n",
    "sales_df = spark.createDataFrame(sales)\n",
    "sales_df.show()"
   ]
  },
  {
   "cell_type": "code",
   "execution_count": 0,
   "metadata": {
    "application/vnd.databricks.v1+cell": {
     "cellMetadata": {
      "byteLimit": 2048000,
      "rowLimit": 10000
     },
     "inputWidgets": {},
     "nuid": "fd2bfc84-57df-41a7-9085-836b05003af7",
     "showTitle": false,
     "tableResultSettingsMap": {},
     "title": ""
    }
   },
   "outputs": [
    {
     "output_type": "stream",
     "name": "stdout",
     "output_type": "stream",
     "text": [
      "+----------+------------+\n|product_id|product_name|\n+----------+------------+\n|       100|       Nokia|\n|       200|       Apple|\n|       300|     Samsung|\n+----------+------------+\n\n"
     ]
    }
   ],
   "source": [
    "product_df = spark.createDataFrame(product)\n",
    "product_df.show()"
   ]
  },
  {
   "cell_type": "code",
   "execution_count": 0,
   "metadata": {
    "application/vnd.databricks.v1+cell": {
     "cellMetadata": {
      "byteLimit": 2048000,
      "rowLimit": 10000
     },
     "inputWidgets": {},
     "nuid": "1c7f1499-e7e1-4eab-805d-8097d2e8481d",
     "showTitle": false,
     "tableResultSettingsMap": {},
     "title": ""
    }
   },
   "outputs": [],
   "source": [
    "from pyspark.sql import Window"
   ]
  },
  {
   "cell_type": "code",
   "execution_count": 0,
   "metadata": {
    "application/vnd.databricks.v1+cell": {
     "cellMetadata": {
      "byteLimit": 2048000,
      "rowLimit": 10000
     },
     "inputWidgets": {},
     "nuid": "ebbaa1ec-a205-43cf-b270-aaeed4e80224",
     "showTitle": false,
     "tableResultSettingsMap": {},
     "title": ""
    }
   },
   "outputs": [
    {
     "output_type": "stream",
     "name": "stdout",
     "output_type": "stream",
     "text": [
      "+----------+----------+--------+-----+\n|product_id|first_year|quantity|price|\n+----------+----------+--------+-----+\n|       100|      2008|      10| 5000|\n|       200|      2011|      15| 9000|\n+----------+----------+--------+-----+\n\n"
     ]
    }
   ],
   "source": [
    "sales_df \\\n",
    "    .withColumn('dn', F.dense_rank().over(Window.partitionBy('product_id').orderBy('year')))\\\n",
    "    .filter(F.col('dn')==1)\\\n",
    "    .select('product_id', F.col('year').alias('first_year'),'quantity','price')\\\n",
    "    .show()"
   ]
  },
  {
   "cell_type": "code",
   "execution_count": 0,
   "metadata": {
    "application/vnd.databricks.v1+cell": {
     "cellMetadata": {
      "byteLimit": 2048000,
      "rowLimit": 10000
     },
     "inputWidgets": {},
     "nuid": "89747e92-3d45-4178-89e5-2e7dc5871a94",
     "showTitle": false,
     "tableResultSettingsMap": {},
     "title": ""
    }
   },
   "outputs": [
    {
     "output_type": "stream",
     "name": "stdout",
     "output_type": "stream",
     "text": [
      "+----------+----------+--------+-----+\n|product_id|first_year|quantity|price|\n+----------+----------+--------+-----+\n|       100|      2008|      10| 5000|\n|       200|      2011|      15| 9000|\n+----------+----------+--------+-----+\n\n"
     ]
    }
   ],
   "source": [
    "sales_df.createOrReplaceTempView('sales')\n",
    "product_df.createOrReplaceTempView('product')\n",
    "\n",
    "spark.sql('''\n",
    "select  \n",
    "    product_id,\n",
    "    year as first_year,\n",
    "    quantity,\n",
    "    price\n",
    "from\n",
    "(select \n",
    "    sales.*,\n",
    "    dense_rank() over (partition by sales.product_id order by year) as dn\n",
    "from sales\n",
    "inner join product\n",
    "on sales.product_id = product.product_id) t\n",
    "where t.dn =1;\n",
    "''').show()"
   ]
  },
  {
   "cell_type": "markdown",
   "metadata": {
    "application/vnd.databricks.v1+cell": {
     "cellMetadata": {},
     "inputWidgets": {},
     "nuid": "7a202f15-dd52-41f7-b4e8-dd2bd66376ab",
     "showTitle": false,
     "tableResultSettingsMap": {},
     "title": ""
    }
   },
   "source": [
    "[596. Classes More Than 5 Students](https://leetcode.com/problems/classes-more-than-5-students/description/?envType=study-plan-v2&envId=top-sql-50)"
   ]
  },
  {
   "cell_type": "code",
   "execution_count": 0,
   "metadata": {
    "application/vnd.databricks.v1+cell": {
     "cellMetadata": {
      "byteLimit": 2048000,
      "rowLimit": 10000
     },
     "inputWidgets": {},
     "nuid": "8322614c-aa6f-45d7-940e-b227b11a81e1",
     "showTitle": false,
     "tableResultSettingsMap": {},
     "title": ""
    }
   },
   "outputs": [],
   "source": [
    "data = [['A', 'Math'], ['B', 'English'], ['C', 'Math'], ['D', 'Biology'], ['E', 'Math'], ['F', 'Computer'],\n",
    "        ['G', 'Math'], ['H', 'Math'], ['I', 'Math']]\n",
    "courses = pd.DataFrame(data, columns=['student', 'class']).astype({'student': 'object', 'class': 'object'})"
   ]
  },
  {
   "cell_type": "code",
   "execution_count": 0,
   "metadata": {
    "application/vnd.databricks.v1+cell": {
     "cellMetadata": {
      "byteLimit": 2048000,
      "rowLimit": 10000
     },
     "inputWidgets": {},
     "nuid": "4c095929-941e-4211-89e0-a0dcfffa90fc",
     "showTitle": false,
     "tableResultSettingsMap": {},
     "title": ""
    }
   },
   "outputs": [
    {
     "output_type": "stream",
     "name": "stdout",
     "output_type": "stream",
     "text": [
      "  class\n3  Math\n"
     ]
    }
   ],
   "source": [
    "class_count = courses.groupby('class').size().reset_index(name='class_count')\n",
    "result = class_count[class_count['class_count'] >=5][['class']]\n",
    "print(result)"
   ]
  },
  {
   "cell_type": "code",
   "execution_count": 0,
   "metadata": {
    "application/vnd.databricks.v1+cell": {
     "cellMetadata": {
      "byteLimit": 2048000,
      "rowLimit": 10000
     },
     "inputWidgets": {},
     "nuid": "6d683868-4fff-4e49-b03b-040c83f9a198",
     "showTitle": false,
     "tableResultSettingsMap": {},
     "title": ""
    }
   },
   "outputs": [
    {
     "output_type": "stream",
     "name": "stdout",
     "output_type": "stream",
     "text": [
      "+-------+--------+\n|student|   class|\n+-------+--------+\n|      A|    Math|\n|      B| English|\n|      C|    Math|\n|      D| Biology|\n|      E|    Math|\n|      F|Computer|\n|      G|    Math|\n|      H|    Math|\n|      I|    Math|\n+-------+--------+\n\n"
     ]
    }
   ],
   "source": [
    "courses_spark = spark.createDataFrame(courses)\n",
    "courses_spark.show()"
   ]
  },
  {
   "cell_type": "code",
   "execution_count": 0,
   "metadata": {
    "application/vnd.databricks.v1+cell": {
     "cellMetadata": {
      "byteLimit": 2048000,
      "rowLimit": 10000
     },
     "inputWidgets": {},
     "nuid": "79c56e8d-5a0c-422b-9d5b-2b066dbc4d04",
     "showTitle": false,
     "tableResultSettingsMap": {},
     "title": ""
    }
   },
   "outputs": [
    {
     "output_type": "stream",
     "name": "stdout",
     "output_type": "stream",
     "text": [
      "+-----+\n|class|\n+-----+\n| Math|\n+-----+\n\n"
     ]
    }
   ],
   "source": [
    "courses_spark.groupBy('class')\\\n",
    "             .agg(F.count('class').alias('class_count'))\\\n",
    "             .filter(F.col('class_count')>=5)\\\n",
    "             .select('class').show()\n",
    "# 1 job = 1 action\n",
    "# 1 wide transformation , 1 narrow transformation\n",
    "# stages = 3"
   ]
  },
  {
   "cell_type": "code",
   "execution_count": 0,
   "metadata": {
    "application/vnd.databricks.v1+cell": {
     "cellMetadata": {
      "byteLimit": 2048000,
      "rowLimit": 10000
     },
     "inputWidgets": {},
     "nuid": "7c375a85-11d1-4e17-877a-f225d56c9a5c",
     "showTitle": false,
     "tableResultSettingsMap": {},
     "title": ""
    }
   },
   "outputs": [
    {
     "output_type": "stream",
     "name": "stdout",
     "output_type": "stream",
     "text": [
      "+-----+\n|class|\n+-----+\n| Math|\n+-----+\n\n"
     ]
    }
   ],
   "source": [
    "courses_spark.createTempView('courses')\n",
    "\n",
    "spark.sql('''\n",
    "          select class \n",
    "from courses\n",
    "group by class\n",
    "having count(class)>=5;\n",
    "          ''').show()"
   ]
  },
  {
   "cell_type": "markdown",
   "metadata": {
    "application/vnd.databricks.v1+cell": {
     "cellMetadata": {},
     "inputWidgets": {},
     "nuid": "3cd74f56-4b36-4d03-b8f0-43c68a15e0c9",
     "showTitle": false,
     "tableResultSettingsMap": {},
     "title": ""
    }
   },
   "source": [
    "[1729. Find Followers Count](https://leetcode.com/problems/find-followers-count/description/?envType=study-plan-v2&envId=top-sql-50)"
   ]
  },
  {
   "cell_type": "code",
   "execution_count": 0,
   "metadata": {
    "application/vnd.databricks.v1+cell": {
     "cellMetadata": {
      "byteLimit": 2048000,
      "rowLimit": 10000
     },
     "inputWidgets": {},
     "nuid": "2f50616f-c10d-4663-acbd-b217bf704809",
     "showTitle": false,
     "tableResultSettingsMap": {},
     "title": ""
    }
   },
   "outputs": [],
   "source": [
    "data = [['0', '1'], ['1', '0'], ['2', '0'], ['2', '1']]\n",
    "followers = pd.DataFrame(data, columns=['user_id', 'follower_id']).astype({'user_id': 'Int64', 'follower_id': 'Int64'})"
   ]
  },
  {
   "cell_type": "code",
   "execution_count": 0,
   "metadata": {
    "application/vnd.databricks.v1+cell": {
     "cellMetadata": {
      "byteLimit": 2048000,
      "rowLimit": 10000
     },
     "inputWidgets": {},
     "nuid": "7dbd4d0f-cf22-4148-8b19-b07a39bce22b",
     "showTitle": false,
     "tableResultSettingsMap": {},
     "title": ""
    }
   },
   "outputs": [
    {
     "output_type": "stream",
     "name": "stdout",
     "output_type": "stream",
     "text": [
      "   user_id  followers_count\n0        0                1\n1        1                1\n2        2                2\n"
     ]
    }
   ],
   "source": [
    "grouped = followers.groupby('user_id')\n",
    "followers_count = grouped['user_id'].count()\n",
    "followers_count_df = followers_count.reset_index(name='followers_count')\n",
    "followers_count_df = followers_count_df.sort_values('user_id')\n",
    "print(followers_count_df)"
   ]
  },
  {
   "cell_type": "code",
   "execution_count": 0,
   "metadata": {
    "application/vnd.databricks.v1+cell": {
     "cellMetadata": {
      "byteLimit": 2048000,
      "rowLimit": 10000
     },
     "inputWidgets": {},
     "nuid": "484024f3-9125-428f-aa13-17668d461431",
     "showTitle": false,
     "tableResultSettingsMap": {},
     "title": ""
    }
   },
   "outputs": [
    {
     "output_type": "stream",
     "name": "stdout",
     "output_type": "stream",
     "text": [
      "+-------+-----------+\n|user_id|follower_id|\n+-------+-----------+\n|      0|          1|\n|      1|          0|\n|      2|          0|\n|      2|          1|\n+-------+-----------+\n\n"
     ]
    }
   ],
   "source": [
    "followers_df = spark.createDataFrame(followers)\n",
    "followers_df.show()"
   ]
  },
  {
   "cell_type": "code",
   "execution_count": 0,
   "metadata": {
    "application/vnd.databricks.v1+cell": {
     "cellMetadata": {
      "byteLimit": 2048000,
      "rowLimit": 10000
     },
     "inputWidgets": {},
     "nuid": "f1e7d4b0-edda-4f74-bd10-47cb75093f75",
     "showTitle": false,
     "tableResultSettingsMap": {},
     "title": ""
    }
   },
   "outputs": [
    {
     "output_type": "stream",
     "name": "stdout",
     "output_type": "stream",
     "text": [
      "+-------+---------------+\n|user_id|followers_count|\n+-------+---------------+\n|      0|              1|\n|      1|              1|\n|      2|              2|\n+-------+---------------+\n\n"
     ]
    }
   ],
   "source": [
    "followers_df\\\n",
    "    .groupBy('user_id')\\\n",
    "    .agg(F.count('user_id').alias('followers_count'))\\\n",
    "    .orderBy('user_id')\\\n",
    "    .show()\n",
    "\n",
    "# 1 action 1 job\n",
    "# 2 wide transformation, 1 narrow transformation \n",
    "# 4 stages "
   ]
  },
  {
   "cell_type": "code",
   "execution_count": 0,
   "metadata": {
    "application/vnd.databricks.v1+cell": {
     "cellMetadata": {
      "byteLimit": 2048000,
      "rowLimit": 10000
     },
     "inputWidgets": {},
     "nuid": "a2b8139d-8a00-4b6b-b47e-4d0e4fc16fae",
     "showTitle": false,
     "tableResultSettingsMap": {},
     "title": ""
    }
   },
   "outputs": [
    {
     "output_type": "stream",
     "name": "stdout",
     "output_type": "stream",
     "text": [
      "+-------+---------------+\n|user_id|followers_count|\n+-------+---------------+\n|      0|              1|\n|      1|              1|\n|      2|              2|\n+-------+---------------+\n\n"
     ]
    }
   ],
   "source": [
    "followers_df.createOrReplaceTempView('followers')\n",
    "\n",
    "spark.sql('''\n",
    "select \n",
    "    user_id,\n",
    "    count(user_id) as followers_count\n",
    "from followers\n",
    "group by user_id\n",
    "order by user_id;\n",
    "''').show()"
   ]
  },
  {
   "cell_type": "markdown",
   "metadata": {
    "application/vnd.databricks.v1+cell": {
     "cellMetadata": {},
     "inputWidgets": {},
     "nuid": "f3efa135-8902-4334-a66a-2bdf74ec5166",
     "showTitle": false,
     "tableResultSettingsMap": {},
     "title": ""
    }
   },
   "source": [
    "[619. Biggest Single Number](https://leetcode.com/problems/biggest-single-number/description/?envType=study-plan-v2&envId=top-sql-50)"
   ]
  },
  {
   "cell_type": "code",
   "execution_count": 0,
   "metadata": {
    "application/vnd.databricks.v1+cell": {
     "cellMetadata": {
      "byteLimit": 2048000,
      "rowLimit": 10000
     },
     "inputWidgets": {},
     "nuid": "6a3b1349-20e9-435a-a94d-cbebb150a2c0",
     "showTitle": false,
     "tableResultSettingsMap": {},
     "title": ""
    }
   },
   "outputs": [],
   "source": [
    "data = [[8], [8], [3], [3], [1], [4], [5], [6]]  # first example\n",
    "#data = [[8], [8], [7], [7], [3], [3], [3]] # second example\n",
    "my_numbers = pd.DataFrame(data, columns=['num']).astype({'num': 'Int64'})"
   ]
  },
  {
   "cell_type": "code",
   "execution_count": 0,
   "metadata": {
    "application/vnd.databricks.v1+cell": {
     "cellMetadata": {
      "byteLimit": 2048000,
      "rowLimit": 10000
     },
     "inputWidgets": {},
     "nuid": "97c442df-a92e-453b-9c60-1229b6654a14",
     "showTitle": false,
     "tableResultSettingsMap": {},
     "title": ""
    }
   },
   "outputs": [
    {
     "output_type": "stream",
     "name": "stdout",
     "output_type": "stream",
     "text": [
      "   num\n0    6\n"
     ]
    }
   ],
   "source": [
    "count_df = my_numbers.groupby('num').size().reset_index(name='count')\n",
    "\n",
    "# Step 2: Filter to keep only numbers with count == 1\n",
    "filtered_df = count_df[count_df['count'] == 1]\n",
    "\n",
    "# Step 3: Find the maximum number among the filtered ones\n",
    "result = filtered_df['num'].max()\n",
    "\n",
    "# Step 4: Wrap in a DataFrame if you want the same structure\n",
    "result_df = pd.DataFrame({'num': [result]})\n",
    "print(result_df)"
   ]
  },
  {
   "cell_type": "code",
   "execution_count": 0,
   "metadata": {
    "application/vnd.databricks.v1+cell": {
     "cellMetadata": {
      "byteLimit": 2048000,
      "rowLimit": 10000
     },
     "inputWidgets": {},
     "nuid": "1feac608-3549-40a8-8afd-606643937748",
     "showTitle": false,
     "tableResultSettingsMap": {},
     "title": ""
    }
   },
   "outputs": [
    {
     "output_type": "stream",
     "name": "stdout",
     "output_type": "stream",
     "text": [
      "+---+\n|num|\n+---+\n|  8|\n|  8|\n|  3|\n|  3|\n|  1|\n|  4|\n|  5|\n|  6|\n+---+\n\n"
     ]
    }
   ],
   "source": [
    "my_numbers_df = spark.createDataFrame(my_numbers)\n",
    "my_numbers_df.show()"
   ]
  },
  {
   "cell_type": "code",
   "execution_count": 0,
   "metadata": {
    "application/vnd.databricks.v1+cell": {
     "cellMetadata": {
      "byteLimit": 2048000,
      "rowLimit": 10000
     },
     "inputWidgets": {},
     "nuid": "2980651b-0368-4a75-8cb0-29ef1784a6f6",
     "showTitle": false,
     "tableResultSettingsMap": {},
     "title": ""
    }
   },
   "outputs": [
    {
     "output_type": "stream",
     "name": "stdout",
     "output_type": "stream",
     "text": [
      "+---+\n|num|\n+---+\n|  6|\n+---+\n\n"
     ]
    }
   ],
   "source": [
    "my_numbers_df \\\n",
    "    .groupBy('num') \\\n",
    "    .agg(F.count('num').alias('count')) \\\n",
    "    .filter(F.col('count') == 1) \\\n",
    "    .agg(F.max('num').alias('num')) \\\n",
    "    .show()"
   ]
  },
  {
   "cell_type": "code",
   "execution_count": 0,
   "metadata": {
    "application/vnd.databricks.v1+cell": {
     "cellMetadata": {
      "byteLimit": 2048000,
      "rowLimit": 10000
     },
     "inputWidgets": {},
     "nuid": "07b549df-0396-4511-b055-6a1e2d2ddb19",
     "showTitle": false,
     "tableResultSettingsMap": {},
     "title": ""
    }
   },
   "outputs": [
    {
     "output_type": "stream",
     "name": "stdout",
     "output_type": "stream",
     "text": [
      "+---+\n|num|\n+---+\n|  6|\n+---+\n\n"
     ]
    }
   ],
   "source": [
    "my_numbers_df.createOrReplaceTempView('MyNumbers')\n",
    "\n",
    "\n",
    "spark.sql('''\n",
    "select max(t.num) as num\n",
    "from (\n",
    "    select num\n",
    "    from mynumbers\n",
    "    group by num\n",
    "    having count(num)=1\n",
    ") t;\n",
    "''').show()"
   ]
  },
  {
   "cell_type": "markdown",
   "metadata": {
    "application/vnd.databricks.v1+cell": {
     "cellMetadata": {},
     "inputWidgets": {},
     "nuid": "027afb73-6187-4c3e-9331-19797183fdeb",
     "showTitle": false,
     "tableResultSettingsMap": {},
     "title": ""
    }
   },
   "source": [
    "[1045. Customers Who Bought All Products](https://leetcode.com/problems/customers-who-bought-all-products/description/?envType=study-plan-v2&envId=top-sql-50)"
   ]
  },
  {
   "cell_type": "code",
   "execution_count": 0,
   "metadata": {
    "application/vnd.databricks.v1+cell": {
     "cellMetadata": {
      "byteLimit": 2048000,
      "rowLimit": 10000
     },
     "inputWidgets": {},
     "nuid": "7662047c-ac7d-479a-a884-b3ae4a52104f",
     "showTitle": false,
     "tableResultSettingsMap": {},
     "title": ""
    }
   },
   "outputs": [],
   "source": [
    "data = [[1, 5], [2, 6], [3, 5], [3, 6], [1, 6]]\n",
    "customer = pd.DataFrame(data, columns=['customer_id', 'product_key']).astype(\n",
    "    {'customer_id': 'Int64', 'product_key': 'Int64'})\n",
    "data = [[5], [6]]\n",
    "product = pd.DataFrame(data, columns=['product_key']).astype({'product_key': 'Int64'})"
   ]
  },
  {
   "cell_type": "code",
   "execution_count": 0,
   "metadata": {
    "application/vnd.databricks.v1+cell": {
     "cellMetadata": {
      "byteLimit": 2048000,
      "rowLimit": 10000
     },
     "inputWidgets": {},
     "nuid": "13cde962-f750-4704-93e6-af1feb7ffdf0",
     "showTitle": false,
     "tableResultSettingsMap": {},
     "title": ""
    }
   },
   "outputs": [
    {
     "output_type": "stream",
     "name": "stdout",
     "output_type": "stream",
     "text": [
      "   customer_id\n0            1\n2            3\n"
     ]
    }
   ],
   "source": [
    "total_product = product['product_key'].nunique()\n",
    "\n",
    "customer_product_count = customer.groupby('customer_id')['product_key'].nunique().reset_index()\n",
    "result_df = customer_product_count[customer_product_count['product_key'] == total_product][['customer_id']]\n",
    "\n",
    "print(result_df)"
   ]
  },
  {
   "cell_type": "code",
   "execution_count": 0,
   "metadata": {
    "application/vnd.databricks.v1+cell": {
     "cellMetadata": {
      "byteLimit": 2048000,
      "rowLimit": 10000
     },
     "inputWidgets": {},
     "nuid": "493e36cb-6baf-4eb5-ae76-825bd2d49274",
     "showTitle": false,
     "tableResultSettingsMap": {},
     "title": ""
    }
   },
   "outputs": [],
   "source": [
    "customer_df = spark.createDataFrame(customer)\n",
    "product_df = spark.createDataFrame(product)"
   ]
  },
  {
   "cell_type": "code",
   "execution_count": 0,
   "metadata": {
    "application/vnd.databricks.v1+cell": {
     "cellMetadata": {
      "byteLimit": 2048000,
      "rowLimit": 10000
     },
     "inputWidgets": {},
     "nuid": "9a9c2953-b3af-43d3-a164-a66516cafe85",
     "showTitle": false,
     "tableResultSettingsMap": {},
     "title": ""
    }
   },
   "outputs": [
    {
     "output_type": "stream",
     "name": "stdout",
     "output_type": "stream",
     "text": [
      "+-----------+\n|customer_id|\n+-----------+\n|          1|\n|          3|\n+-----------+\n\n"
     ]
    }
   ],
   "source": [
    "total_product = product_df.select(F.countDistinct('product_key').alias('total')).collect()[0]['total']\n",
    "customer_product_count = customer_df.groupBy('customer_id')\\\n",
    "                            .agg(F.countDistinct('product_key').alias('product_brought'))\n",
    "result_df = customer_product_count.filter(F.col(\"product_brought\") == total_product).select(\"customer_id\").show()\n"
   ]
  },
  {
   "cell_type": "code",
   "execution_count": 0,
   "metadata": {
    "application/vnd.databricks.v1+cell": {
     "cellMetadata": {
      "byteLimit": 2048000,
      "rowLimit": 10000
     },
     "inputWidgets": {},
     "nuid": "9e4bc12a-d95b-4a0c-8fdc-c814967970b2",
     "showTitle": false,
     "tableResultSettingsMap": {},
     "title": ""
    }
   },
   "outputs": [
    {
     "output_type": "stream",
     "name": "stdout",
     "output_type": "stream",
     "text": [
      "+-----------+\n|customer_id|\n+-----------+\n|          1|\n|          3|\n+-----------+\n\n"
     ]
    }
   ],
   "source": [
    "customer_df.createOrReplaceTempView('customer')\n",
    "product_df.createOrReplaceTempView('product')\n",
    "\n",
    "spark.sql(\n",
    "    '''\n",
    "    WITH product_total as (\n",
    "        SELECT count(DISTINCT product_key) as total_products\n",
    "        FROM product\n",
    "    )\n",
    "    \n",
    "    SELECT customer_id\n",
    "    FROM (\n",
    "        SELECT customer_id, COUNT(DISTINCT product_key) AS products_bought\n",
    "        FROM customer\n",
    "        GROUP BY customer_id\n",
    "    ) customer_summary\n",
    "    CROSS JOIN product_total\n",
    "    WHERE customer_summary.products_bought = product_total.total_products\n",
    "    ''').show()"
   ]
  },
  {
   "cell_type": "code",
   "execution_count": 0,
   "metadata": {
    "application/vnd.databricks.v1+cell": {
     "cellMetadata": {},
     "inputWidgets": {},
     "nuid": "140201a7-5e55-448f-b28e-79eabe1dc6dd",
     "showTitle": false,
     "tableResultSettingsMap": {},
     "title": ""
    }
   },
   "outputs": [],
   "source": []
  }
 ],
 "metadata": {
  "application/vnd.databricks.v1+notebook": {
   "computePreferences": null,
   "dashboards": [],
   "environmentMetadata": {
    "base_environment": "",
    "environment_version": "1"
   },
   "inputWidgetPreferences": null,
   "language": "python",
   "notebookMetadata": {
    "pythonIndentUnit": 4
   },
   "notebookName": "Sort_&_Grouping",
   "widgets": {}
  }
 },
 "nbformat": 4,
 "nbformat_minor": 0
}